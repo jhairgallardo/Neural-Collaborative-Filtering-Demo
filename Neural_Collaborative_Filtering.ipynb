{
 "cells": [
  {
   "cell_type": "code",
   "execution_count": 1,
   "metadata": {},
   "outputs": [],
   "source": [
    "import random\n",
    "random.seed(7)\n",
    "\n",
    "import pandas as pd\n",
    "import numpy as np\n",
    "import matplotlib.pyplot as plt\n",
    "from tqdm import tqdm"
   ]
  },
  {
   "cell_type": "code",
   "execution_count": 2,
   "metadata": {},
   "outputs": [
    {
     "name": "stderr",
     "output_type": "stream",
     "text": [
      "C:\\Anaconda3\\envs\\py36\\lib\\site-packages\\h5py\\__init__.py:36: FutureWarning: Conversion of the second argument of issubdtype from `float` to `np.floating` is deprecated. In future, it will be treated as `np.float64 == np.dtype(float).type`.\n",
      "  from ._conv import register_converters as _register_converters\n",
      "Using TensorFlow backend.\n"
     ]
    }
   ],
   "source": [
    "from keras.layers import Dense, Flatten, Embedding, Input, concatenate, Lambda, Dropout, multiply\n",
    "from keras.regularizers import l2\n",
    "from keras.models import Model, load_model, model_from_json\n",
    "from keras.optimizers import Adam\n",
    "import keras.backend as K\n",
    "import tensorflow as tf"
   ]
  },
  {
   "cell_type": "code",
   "execution_count": 65,
   "metadata": {},
   "outputs": [],
   "source": [
    "def evaluate_model(model, test, topK=10): #try using multiprocessing (in case this method is too slow)\n",
    "    _hits = []\n",
    "    print(' testing...')\n",
    "    test['prediction'] = model.predict([test['user_id'], test['item_id']])\n",
    "    users = test['user_id'].unique()\n",
    "    for user in tqdm(users):\n",
    "        user_topk = test[test['user_id']==user].nlargest(topK,'prediction')\n",
    "        _hr = getHitRatio(user_topk)\n",
    "        _hits.append(_hr)  \n",
    "    return _hits\n",
    "\n",
    "def getHitRatio(ranklist):\n",
    "    for label in ranklist['labels']:\n",
    "        if label == 1:\n",
    "            return 1\n",
    "    return 0\n",
    "\n",
    "def save_model_json_GMF(model):\n",
    "    model.save_weights('models/GMF_weights')\n",
    "    model_json = model.to_json()\n",
    "    with open(\"models/GMF_model.json\", \"w\") as json_file:\n",
    "        json_file.write(model_json)\n",
    "    return None\n",
    "\n",
    "def save_model_json_MLP(model):\n",
    "    model.save_weights('models/MLP_weights')\n",
    "    model_json = model.to_json()\n",
    "    with open(\"models/MLP_model.json\", \"w\") as json_file:\n",
    "        json_file.write(model_json)\n",
    "    return None\n",
    "\n",
    "def save_model_json_NeuMF(model):\n",
    "    model.save_weights('models/NeuMF_weights')\n",
    "    model_json = model.to_json()\n",
    "    with open(\"models/NeuMF_model.json\", \"w\") as json_file:\n",
    "        json_file.write(model_json)\n",
    "    return None\n",
    "\n",
    "def save_model_json_NeuMF_noTF(model):\n",
    "    model.save_weights('models/NeuMF_noTF_weights')\n",
    "    model_json = model.to_json()\n",
    "    with open(\"models/NeuMF_noTF_model.json\", \"w\") as json_file:\n",
    "        json_file.write(model_json)\n",
    "    return None"
   ]
  },
  {
   "cell_type": "code",
   "execution_count": 66,
   "metadata": {},
   "outputs": [],
   "source": [
    "def calculate_neg_item_dict_by_user(data_ratings_all):\n",
    "    dict_ = {}\n",
    "    all_items_ = list(data_ratings_all['item_id'].unique())\n",
    "    for user in tqdm(data_ratings_all['user_id'].unique()):\n",
    "        pos_vector = list(data_ratings_all[data_ratings_all['user_id']==user].loc[:,'item_id'])\n",
    "        neg_vector = list(set(all_items_)-set(pos_vector))\n",
    "        dict_[user]=neg_vector\n",
    "    return dict_"
   ]
  },
  {
   "cell_type": "code",
   "execution_count": 67,
   "metadata": {},
   "outputs": [],
   "source": [
    "def add_neg_data(neg_dict, df_ratings, neg_num=1):\n",
    "    user_vector=[]\n",
    "    itemneg_vector=[]\n",
    "    neglabels=[]\n",
    "    for user in tqdm(df_ratings['user_id'].unique()):\n",
    "        #take sample of negatives ( neg_num times df positives )\n",
    "        df_pos_vector = list(df_ratings[df_ratings['user_id']==user].loc[:,'item_id'])\n",
    "        neg_vector = list(random.sample(neg_dict[user], len(df_pos_vector)*neg_num))\n",
    "        #createdata\n",
    "        user_vector.extend([user]*(len(neg_vector)))\n",
    "        itemneg_vector.extend(neg_vector)\n",
    "        neglabels.extend([0]*len(neg_vector))\n",
    "    dfdict_ = {'user_id':user_vector,'item_id':itemneg_vector,'labels':neglabels}\n",
    "    df_negdata = pd.DataFrame(dfdict_)\n",
    "    \n",
    "    df = pd.concat([df_ratings, df_negdata],axis=0,ignore_index=True)\n",
    "    df = df.sample(frac=1).reset_index(drop=True) #shuffle and reset index (drop old index)\n",
    "    df = df.astype({\"user_id\": int, \"item_id\": int, \"labels\":int}) #convert to int\n",
    "    \n",
    "    return df"
   ]
  },
  {
   "cell_type": "code",
   "execution_count": 68,
   "metadata": {},
   "outputs": [],
   "source": [
    "def GMF_paper(num_users, num_items,latent_dim=3,reg_layers=[0,0]):\n",
    "    \n",
    "    # Input variables\n",
    "    user_input = Input(shape=(None,), name = 'user_input')\n",
    "    item_input = Input(shape=(None,), name = 'item_input')\n",
    "    \n",
    "    MLP_Embedding_User = Embedding(input_dim = num_users,\n",
    "                                   output_dim = latent_dim,\n",
    "                                   name = 'user_embedding',\n",
    "                                   embeddings_regularizer = l2(reg_layers[0]),\n",
    "                                   input_length=1)\n",
    "    MLP_Embedding_Item = Embedding(input_dim = num_items,\n",
    "                                   output_dim = latent_dim,\n",
    "                                   name = 'item_embedding',\n",
    "                                   embeddings_regularizer = l2(reg_layers[0]),\n",
    "                                   input_length=1)\n",
    "    \n",
    "    # Crucial to flatten an embedding vector!\n",
    "    user_latent = Flatten()(MLP_Embedding_User(user_input))\n",
    "    item_latent = Flatten()(MLP_Embedding_Item(item_input))\n",
    "    \n",
    "    # Element-wise product of user and item embeddings \n",
    "    predict_vector = multiply([user_latent, item_latent])\n",
    "    \n",
    "    # Final prediction layer\n",
    "    prediction = Dense(1, activation='sigmoid',\n",
    "                       kernel_initializer='lecun_uniform',\n",
    "                       name = 'prediction')(predict_vector)\n",
    "    \n",
    "    model = Model(input=[user_input, item_input], output=prediction)\n",
    "    \n",
    "    return model"
   ]
  },
  {
   "cell_type": "code",
   "execution_count": 69,
   "metadata": {},
   "outputs": [],
   "source": [
    "def MLP_paper(num_users, num_items,layers = [64,32,16,8], reg_layers=[0,0,0,0]):\n",
    "    num_layer = len(layers)\n",
    "    user_lat_dim = 8 \n",
    "    item_lat_dim = 10 \n",
    "    \n",
    "    # Input variables\n",
    "    user_input = Input(shape=(None,), name = 'user_input')\n",
    "    item_input = Input(shape=(None,), name = 'item_input')\n",
    "    \n",
    "    MLP_Embedding_User = Embedding(input_dim = num_users,\n",
    "                                   output_dim = user_lat_dim,\n",
    "                                   name = 'user_embedding',\n",
    "                                   embeddings_regularizer = l2(reg_layers[0]),\n",
    "                                   input_length=1)\n",
    "    MLP_Embedding_Item = Embedding(input_dim = num_items,\n",
    "                                   output_dim = item_lat_dim,\n",
    "                                   name = 'item_embedding',\n",
    "                                  embeddings_regularizer = l2(reg_layers[0]),\n",
    "                                   input_length=1)\n",
    "    \n",
    "    # Crucial to flatten an embedding vector!\n",
    "    user_latent = Flatten()(MLP_Embedding_User(user_input))\n",
    "    item_latent = Flatten()(MLP_Embedding_Item(item_input))\n",
    "    \n",
    "    user_latent_d = Dropout(0.1)(user_latent)\n",
    "    item_latent_d = Dropout(0.1)(item_latent)\n",
    "    \n",
    "    # The 0-th layer is the concatenation of embedding layers\n",
    "    vector = concatenate([user_latent_d, item_latent_d], axis=-1, name = 'concatenate_0')\n",
    "    \n",
    "    # MLP layers\n",
    "    for idx in range(1, num_layer):\n",
    "        layer = Dense(layers[idx], kernel_regularizer= l2(reg_layers[idx]),\n",
    "                      activation='relu', name = 'layer%d' %idx)\n",
    "        vector = layer(vector)\n",
    "        \n",
    "    # Final prediction layer\n",
    "    prediction = Dense(1, activation='sigmoid',\n",
    "                       kernel_initializer='lecun_uniform',\n",
    "                       name = 'prediction')(vector)\n",
    "    \n",
    "    model = Model(input=[user_input, item_input], output=prediction)\n",
    "    \n",
    "    return model"
   ]
  },
  {
   "cell_type": "code",
   "execution_count": 70,
   "metadata": {},
   "outputs": [],
   "source": [
    "def NeuMF_paper(num_users, num_items, gmf_dim=8, layers = [64,32,16,8], reg_layers=[0,0,0,0]):\n",
    "    num_layer = len(layers) \n",
    "    user_lat_dim = 8 \n",
    "    item_lat_dim = 10\n",
    "    \n",
    "    # Input variables\n",
    "    user_input = Input(shape=(None,), name = 'user_input')\n",
    "    item_input = Input(shape=(None,), name = 'item_input')\n",
    "    \n",
    "    # Embedding layer\n",
    "    GMF_Embedding_User = Embedding(input_dim = num_users,output_dim = gmf_dim,\n",
    "                                   name = 'gmf_embedding_user',\n",
    "                                   embeddings_regularizer = l2(reg_layers[0]),\n",
    "                                   input_length=1)\n",
    "    GMF_Embedding_Item = Embedding(input_dim = num_items,output_dim = gmf_dim,\n",
    "                                   name = 'gmf_embedding_item',\n",
    "                                   embeddings_regularizer = l2(reg_layers[0]),\n",
    "                                   input_length=1)  \n",
    "\n",
    "    MLP_Embedding_User = Embedding(input_dim = num_users,output_dim = user_lat_dim,\n",
    "                                   name = \"mlp_embedding_user\",\n",
    "                                   embeddings_regularizer = l2(reg_layers[0]),\n",
    "                                   input_length=1)\n",
    "    MLP_Embedding_Item = Embedding(input_dim = num_items,output_dim = item_lat_dim,\n",
    "                                   name = 'mlp_embedding_item',\n",
    "                                   embeddings_regularizer = l2(reg_layers[0]),\n",
    "                                   input_length=1)   \n",
    "    \n",
    "    # MF part\n",
    "    gmf_user_latent = Flatten()(GMF_Embedding_User(user_input))\n",
    "    gmf_item_latent = Flatten()(GMF_Embedding_Item(item_input))\n",
    "    gmf_vector = multiply([gmf_user_latent, gmf_item_latent]) # element-wise multiply\n",
    "\n",
    "    # MLP part \n",
    "    mlp_user_latent = Flatten()(MLP_Embedding_User(user_input))\n",
    "    mlp_item_latent = Flatten()(MLP_Embedding_Item(item_input))\n",
    "    mlp_user_latent_d = Dropout(0.5)(mlp_user_latent)\n",
    "    mlp_item_latent_d = Dropout(0.5)(mlp_item_latent)\n",
    "    mlp_vector = concatenate([mlp_user_latent_d, mlp_item_latent_d],axis=-1, name = 'concatenate_0')\n",
    "    for idx in range(1, num_layer):\n",
    "        layer = Dense(layers[idx], kernel_regularizer= l2(reg_layers[idx]),\n",
    "                      activation='relu', name=\"layer%d\" %idx)\n",
    "        mlp_vector = layer(mlp_vector)\n",
    "\n",
    "    # Concatenate MF and MLP parts\n",
    "    predict_vector = concatenate([gmf_vector, mlp_vector], axis=-1, name = 'concatenate_1')\n",
    "    \n",
    "    # Final prediction layer\n",
    "    prediction = Dense(1, activation='sigmoid', kernel_initializer='lecun_uniform',\n",
    "                       name = \"prediction\")(predict_vector)\n",
    "    \n",
    "    model = Model(input=[user_input, item_input], output=prediction)\n",
    "    \n",
    "    return model"
   ]
  },
  {
   "cell_type": "code",
   "execution_count": 71,
   "metadata": {},
   "outputs": [],
   "source": [
    "def getdata(data_path):\n",
    "    print('Reading data ... ')\n",
    "    all_ratings = pd.read_csv(data_path, sep='\\t',header=None)\n",
    "    all_ratings = all_ratings.drop(columns=[1])\n",
    "    all_ratings = all_ratings.dropna() \n",
    "    all_ratings.columns=['user','item','plays']\n",
    "    all_ratings = all_ratings[all_ratings.plays!=0] # drop rows with plays number iqual to 0\n",
    "    \n",
    "    print('Droping items with less than 10 times beeing used ... ')\n",
    "    all_ratings = all_ratings[all_ratings.groupby('item')['item'].transform('count').ge(10)]\n",
    "    print('Droping users with lens than 75 items ... ')\n",
    "    all_ratings = all_ratings[all_ratings.groupby('user')['user'].transform('count').ge(75)]\n",
    "    print('All Items: ', len(all_ratings.item.unique()))\n",
    "    print('All Users: ', len(all_ratings.user.unique()))\n",
    "    print('All ratings: ', len(all_ratings))\n",
    "    # Take only user that appears more than 10 times. This means that the users have 10 or more items\n",
    "\n",
    "    # print(all_data[all_data.isnull().any(axis=1)]) #show nulls\n",
    "    \n",
    "    print('Creating categories and diccionary item_id to item ... ')\n",
    "    all_ratings[\"user\"] = all_ratings[\"user\"].astype('category')\n",
    "    all_ratings[\"item\"] = all_ratings[\"item\"].astype('category')\n",
    "\n",
    "    all_ratings[\"user_id\"] = all_ratings[\"user\"].cat.codes\n",
    "    all_ratings[\"item_id\"] = all_ratings[\"item\"].cat.codes\n",
    "    all_ratings = all_ratings.drop(columns='user')\n",
    "    all_ratings['labels']=1\n",
    "    \n",
    "    itemid2item = dict(set(list(zip(all_ratings.item_id, all_ratings.item))))\n",
    "    \n",
    "    print(all_ratings.head())\n",
    "    \n",
    "    return all_ratings, itemid2item"
   ]
  },
  {
   "cell_type": "code",
   "execution_count": 72,
   "metadata": {},
   "outputs": [],
   "source": [
    "def split_train_test(all_ratings):\n",
    "    print('Creating diccionary user to negative items ... ')\n",
    "    user_2_neg_items_vect = calculate_neg_item_dict_by_user(all_ratings)\n",
    "    \n",
    "    print('Creating test data and training ratings ...')\n",
    "    test_ratings = all_ratings.groupby('user_id', group_keys=False).apply(lambda df: df.sample(1,random_state=7))\n",
    "    test_data = add_neg_data(user_2_neg_items_vect,test_ratings,neg_num=100)\n",
    "    print('Test data: ',len(test_data))\n",
    "    print('Test Items: ',len(test_data.item.unique()))\n",
    "    print('Test Users: ',len(test_data.user_id.unique()))\n",
    "    \n",
    "    train_ratings = all_ratings.drop(list(test_ratings.index))\n",
    "    print('Train ratings: ', len(train_ratings))\n",
    "    \n",
    "    return train_ratings, test_data, user_2_neg_items_vect"
   ]
  },
  {
   "cell_type": "code",
   "execution_count": 73,
   "metadata": {},
   "outputs": [],
   "source": [
    "def train_GMF(data_ratings,train_ratings,test_data,user_2_neg_items_vect,num_epochs):\n",
    "    n_users = data_ratings['user_id'].nunique()\n",
    "    n_items = data_ratings['item_id'].nunique()\n",
    "    \n",
    "    GMF = GMF_paper(n_users, n_items, latent_dim=8)\n",
    "    GMF.summary()\n",
    "    \n",
    "    GMF.compile(optimizer=Adam(lr=0.001), loss='binary_crossentropy', metrics=['accuracy'])\n",
    "    \n",
    "    best_hr = -1\n",
    "    hr_vect = []\n",
    "    for i in range(num_epochs):\n",
    "        epoch = i+1\n",
    "        print('EPOCH:',epoch,'-'*80)\n",
    "        print(' generating negatives...')\n",
    "        train_data = add_neg_data(user_2_neg_items_vect,train_ratings)\n",
    "        print(' training...')\n",
    "        hist_ = GMF.fit(x=[train_data['user_id'], train_data['item_id']], y=train_data['labels'],\n",
    "                epochs=1, batch_size=int(8192/2), shuffle=True, verbose=2)\n",
    "\n",
    "        # Evaluation (IMPLEMENTAR LAS METRICAS SEGUN EL PAPER) (REVISAR CODIGO DEL PAPER EN GITHUB)\n",
    "        hits = evaluate_model(GMF, test_data, topK=10)\n",
    "        hr,loss,acc  = np.array(hits).mean(), hist_.history['loss'][0],hist_.history['acc'][0]\n",
    "        hr_vect.append(hr)\n",
    "        print(' epoch %d --> loss = %.4f, ACC = %.4f, HR = %.4f'\n",
    "              % (epoch,loss,acc,hr))\n",
    "        if hr > best_hr:\n",
    "            print(' Best model found!')\n",
    "            best_hr, best_epoch = hr, epoch\n",
    "            save_model_json_GMF(GMF)\n",
    "\n",
    "        np.save('metric/hr_vect_GMF',hr_vect)\n",
    "    \n",
    "    return None"
   ]
  },
  {
   "cell_type": "code",
   "execution_count": 101,
   "metadata": {},
   "outputs": [],
   "source": [
    "def train_MLP(data_ratings,train_ratings,test_data,user_2_neg_items_vect,num_epochs):\n",
    "    n_users = data_ratings['user_id'].nunique()\n",
    "    n_items = data_ratings['item_id'].nunique()\n",
    "    \n",
    "    MLP = MLP_paper(n_users, n_items)\n",
    "    MLP.summary()\n",
    "    \n",
    "    MLP.compile(optimizer=Adam(lr=0.0001), loss='binary_crossentropy', metrics=['accuracy']) #0.005\n",
    "    \n",
    "    best_hr = -1\n",
    "    hr_vect = []\n",
    "    for i in range(num_epochs):\n",
    "        epoch = i+1\n",
    "        print('EPOCH:',epoch,'-'*80)\n",
    "        print(' generating negatives...')\n",
    "        train_data = add_neg_data(user_2_neg_items_vect,train_ratings)\n",
    "        print(' training...')\n",
    "        hist_ = MLP.fit(x=[train_data['user_id'], train_data['item_id']], y=train_data['labels'],\n",
    "                epochs=1, batch_size=int(8192/2), shuffle=True, verbose=2)\n",
    "\n",
    "        # Evaluation (IMPLEMENTAR LAS METRICAS SEGUN EL PAPER) (REVISAR CODIGO DEL PAPER EN GITHUB)\n",
    "        hits = evaluate_model(MLP, test_data, topK=10)\n",
    "        hr,loss,acc  = np.array(hits).mean(), hist_.history['loss'][0],hist_.history['acc'][0]\n",
    "        hr_vect.append(hr)\n",
    "        print(' epoch %d --> loss = %.4f, ACC = %.4f, HR = %.4f'\n",
    "              % (epoch,loss,acc,hr))\n",
    "        if hr > best_hr:\n",
    "            print(' Best model found!')\n",
    "            best_hr, best_epoch = hr, epoch\n",
    "            save_model_json_MLP(MLP)\n",
    "\n",
    "        np.save('metric/hr_vect_MLP',hr_vect)\n",
    "    \n",
    "    return None"
   ]
  },
  {
   "cell_type": "code",
   "execution_count": 116,
   "metadata": {},
   "outputs": [],
   "source": [
    "def train_model_NeuMF(data_ratings, train_ratings, test_data,user_2_neg_items_vect ,num_epochs, pre_train=True):\n",
    "    \n",
    "    def load_pretrain_model(model, gmf_model, mlp_model, num_layers=len([64,32,16,8])):\n",
    "        # MF embeddings\n",
    "        gmf_user_embeddings = gmf_model.get_layer('user_embedding').get_weights()\n",
    "        gmf_item_embeddings = gmf_model.get_layer('item_embedding').get_weights()\n",
    "        model.get_layer('gmf_embedding_user').set_weights(gmf_user_embeddings)\n",
    "        model.get_layer('gmf_embedding_item').set_weights(gmf_item_embeddings)\n",
    "\n",
    "        # MLP embeddings\n",
    "        mlp_user_embeddings = mlp_model.get_layer('user_embedding').get_weights()\n",
    "        mlp_item_embeddings = mlp_model.get_layer('item_embedding').get_weights()\n",
    "        model.get_layer('mlp_embedding_user').set_weights(mlp_user_embeddings)\n",
    "        model.get_layer('mlp_embedding_item').set_weights(mlp_item_embeddings)\n",
    "\n",
    "        # MLP layers\n",
    "        for i in range(1, num_layers):\n",
    "            mlp_layer_weights = mlp_model.get_layer('layer%d' %i).get_weights()\n",
    "            model.get_layer('layer%d' %i).set_weights(mlp_layer_weights)\n",
    "\n",
    "        # Prediction weights\n",
    "        gmf_prediction = gmf_model.get_layer('prediction').get_weights()\n",
    "        mlp_prediction = mlp_model.get_layer('prediction').get_weights()\n",
    "        new_weights = np.concatenate((gmf_prediction[0], mlp_prediction[0]), axis=0)\n",
    "        new_b = gmf_prediction[1] + mlp_prediction[1]\n",
    "        model.get_layer('prediction').set_weights([0.5*new_weights, 0.5*new_b])    \n",
    "        return model\n",
    "    \n",
    "    n_users = data_ratings['user_id'].nunique()\n",
    "    n_items = data_ratings['item_id'].nunique()\n",
    "    \n",
    "    NeuMF = NeuMF_paper(n_users, n_items)\n",
    "    print(NeuMF.summary())\n",
    "    \n",
    "    NeuMF.compile(optimizer=Adam(lr=0.005), loss='binary_crossentropy', metrics=['accuracy']) #0.0001\n",
    "    \n",
    "    # Load pretrain model\n",
    "    if pre_train:\n",
    "        print(\"Loading pre-train weights ... \")\n",
    "        gmf_model = GMF_paper(n_users,n_items,latent_dim=8)\n",
    "        gmf_model.load_weights('models/GMF_weights')\n",
    "        mlp_model = MLP_paper(n_users,n_items)\n",
    "        mlp_model.load_weights('models/MLP_weights')\n",
    "        NeuMF = load_pretrain_model(NeuMF, gmf_model, mlp_model)\n",
    "        print(\"Load pretrained GMF (%s) and MLP (%s) models done. \")\n",
    "        \n",
    "    # trainig loop\n",
    "    best_hr = -1\n",
    "    hr_vect = []\n",
    "    loss_vect = []\n",
    "    print('Trainig loop...')\n",
    "    for i in range(num_epochs):\n",
    "        epoch = i+1\n",
    "        print('EPOCH:',epoch,'-'*80)\n",
    "        print(' generating negatives...')\n",
    "        train_data = add_neg_data(user_2_neg_items_vect,train_ratings)\n",
    "        print(' training...')\n",
    "        hist_ = NeuMF.fit(x=[train_data['user_id'], train_data['item_id']], y=train_data['labels'],\n",
    "                epochs=1, batch_size=int(8192/2), shuffle=True, verbose=2)\n",
    "\n",
    "        # Evaluation (IMPLEMENTAR LAS METRICAS SEGUN EL PAPER) (REVISAR CODIGO DEL PAPER EN GITHUB)\n",
    "        hits = evaluate_model(NeuMF, test_data, topK=10)\n",
    "        hr,loss,acc  = np.array(hits).mean(), hist_.history['loss'][0],hist_.history['acc'][0]\n",
    "        hr_vect.append(hr)\n",
    "        print(' epoch %d --> loss = %.4f, ACC = %.4f, HR = %.4f'\n",
    "              % (epoch,loss,acc,hr))\n",
    "        if hr > best_hr:\n",
    "            print(' Best model found!')\n",
    "            best_hr, best_epoch = hr, epoch\n",
    "            if pre_train:\n",
    "                save_model_json_NeuMF(NeuMF)\n",
    "            else:\n",
    "                save_model_json_NeuMF_noTF(NeuMF)\n",
    "                                           \n",
    "        if pre_train:\n",
    "            np.save('metric/hr_vect_NeuMF',hr_vect)\n",
    "        else:\n",
    "            np.save('metric/hr_vect_NeuMF_noTF',hr_vect)\n",
    "            \n",
    "    return None"
   ]
  },
  {
   "cell_type": "code",
   "execution_count": 76,
   "metadata": {},
   "outputs": [],
   "source": [
    "path = '../data/lastfm-dataset-360K/usersha1-artmbid-artname-plays.tsv'"
   ]
  },
  {
   "cell_type": "code",
   "execution_count": 77,
   "metadata": {},
   "outputs": [
    {
     "name": "stdout",
     "output_type": "stream",
     "text": [
      "Reading data ... \n",
      "Droping items with less than 10 times beeing used ... \n",
      "Droping users with lens than 75 items ... \n",
      "All Items:  32278\n",
      "All Users:  2526\n",
      "All ratings:  205629\n",
      "Creating categories and diccionary item_id to item ... \n",
      "                        item  plays  user_id  item_id  labels\n",
      "4235               pj harvey    394        0    22261       1\n",
      "4236               radiohead    201        0    22928       1\n",
      "4237                  zero 7    182        0    31845       1\n",
      "4238  einstürzende neubauten    106        0     9129       1\n",
      "4239             david bowie    104        0     7188       1\n"
     ]
    }
   ],
   "source": [
    "all_ratings, itemid2item  = getdata(path)"
   ]
  },
  {
   "cell_type": "code",
   "execution_count": 78,
   "metadata": {},
   "outputs": [
    {
     "name": "stdout",
     "output_type": "stream",
     "text": [
      "Creating diccionary user to negative items ... \n"
     ]
    },
    {
     "name": "stderr",
     "output_type": "stream",
     "text": [
      "100%|█████████████████████████████████████████████████████████████████████████████| 2526/2526 [00:12<00:00, 201.77it/s]\n"
     ]
    },
    {
     "name": "stdout",
     "output_type": "stream",
     "text": [
      "Creating test data and training ratings ...\n"
     ]
    },
    {
     "name": "stderr",
     "output_type": "stream",
     "text": [
      "100%|████████████████████████████████████████████████████████████████████████████| 2526/2526 [00:02<00:00, 1189.85it/s]\n",
      "C:\\Anaconda3\\envs\\py36\\lib\\site-packages\\ipykernel_launcher.py:16: FutureWarning: Sorting because non-concatenation axis is not aligned. A future version\n",
      "of pandas will change to not sort by default.\n",
      "\n",
      "To accept the future behavior, pass 'sort=True'.\n",
      "\n",
      "To retain the current behavior and silence the warning, pass sort=False\n",
      "\n",
      "  app.launch_new_instance()\n"
     ]
    },
    {
     "name": "stdout",
     "output_type": "stream",
     "text": [
      "Test data:  255126\n",
      "Test Items:  2023\n",
      "Test Users:  2526\n",
      "Train ratings:  203103\n"
     ]
    }
   ],
   "source": [
    "train_ratings, test_data, user_2_neg_items_vect = split_train_test(all_ratings)"
   ]
  },
  {
   "cell_type": "code",
   "execution_count": 80,
   "metadata": {
    "scrolled": true
   },
   "outputs": [
    {
     "name": "stderr",
     "output_type": "stream",
     "text": [
      "C:\\Anaconda3\\envs\\py36\\lib\\site-packages\\ipykernel_launcher.py:30: UserWarning: Update your `Model` call to the Keras 2 API: `Model(inputs=[<tf.Tenso..., outputs=Tensor(\"pr...)`\n"
     ]
    },
    {
     "name": "stdout",
     "output_type": "stream",
     "text": [
      "__________________________________________________________________________________________________\n",
      "Layer (type)                    Output Shape         Param #     Connected to                     \n",
      "==================================================================================================\n",
      "user_input (InputLayer)         (None, None)         0                                            \n",
      "__________________________________________________________________________________________________\n",
      "item_input (InputLayer)         (None, None)         0                                            \n",
      "__________________________________________________________________________________________________\n",
      "user_embedding (Embedding)      (None, 1, 8)         20208       user_input[0][0]                 \n",
      "__________________________________________________________________________________________________\n",
      "item_embedding (Embedding)      (None, 1, 8)         258224      item_input[0][0]                 \n",
      "__________________________________________________________________________________________________\n",
      "flatten_9 (Flatten)             (None, 8)            0           user_embedding[0][0]             \n",
      "__________________________________________________________________________________________________\n",
      "flatten_10 (Flatten)            (None, 8)            0           item_embedding[0][0]             \n",
      "__________________________________________________________________________________________________\n",
      "multiply_3 (Multiply)           (None, 8)            0           flatten_9[0][0]                  \n",
      "                                                                 flatten_10[0][0]                 \n",
      "__________________________________________________________________________________________________\n",
      "prediction (Dense)              (None, 1)            9           multiply_3[0][0]                 \n",
      "==================================================================================================\n",
      "Total params: 278,441\n",
      "Trainable params: 278,441\n",
      "Non-trainable params: 0\n",
      "__________________________________________________________________________________________________\n",
      "EPOCH: 1 --------------------------------------------------------------------------------\n",
      " generating negatives...\n"
     ]
    },
    {
     "name": "stderr",
     "output_type": "stream",
     "text": [
      "100%|████████████████████████████████████████████████████████████████████████████| 2526/2526 [00:02<00:00, 1127.68it/s]\n",
      "C:\\Anaconda3\\envs\\py36\\lib\\site-packages\\ipykernel_launcher.py:16: FutureWarning: Sorting because non-concatenation axis is not aligned. A future version\n",
      "of pandas will change to not sort by default.\n",
      "\n",
      "To accept the future behavior, pass 'sort=True'.\n",
      "\n",
      "To retain the current behavior and silence the warning, pass sort=False\n",
      "\n",
      "  app.launch_new_instance()\n"
     ]
    },
    {
     "name": "stdout",
     "output_type": "stream",
     "text": [
      " training...\n",
      "Epoch 1/1\n",
      " - 1s - loss: 0.6931 - acc: 0.4990\n",
      " testing...\n"
     ]
    },
    {
     "name": "stderr",
     "output_type": "stream",
     "text": [
      "100%|█████████████████████████████████████████████████████████████████████████████| 2526/2526 [00:05<00:00, 500.40it/s]\n"
     ]
    },
    {
     "name": "stdout",
     "output_type": "stream",
     "text": [
      " epoch 1 --> loss = 0.6931, ACC = 0.4990, HR = 0.1120\n",
      " Best model found!\n",
      "EPOCH: 2 --------------------------------------------------------------------------------\n",
      " generating negatives...\n"
     ]
    },
    {
     "name": "stderr",
     "output_type": "stream",
     "text": [
      "100%|████████████████████████████████████████████████████████████████████████████| 2526/2526 [00:02<00:00, 1191.52it/s]\n"
     ]
    },
    {
     "name": "stdout",
     "output_type": "stream",
     "text": [
      " training...\n",
      "Epoch 1/1\n",
      " - 0s - loss: 0.6931 - acc: 0.5081\n",
      " testing...\n"
     ]
    },
    {
     "name": "stderr",
     "output_type": "stream",
     "text": [
      "100%|█████████████████████████████████████████████████████████████████████████████| 2526/2526 [00:04<00:00, 521.04it/s]\n"
     ]
    },
    {
     "name": "stdout",
     "output_type": "stream",
     "text": [
      " epoch 2 --> loss = 0.6931, ACC = 0.5081, HR = 0.1374\n",
      " Best model found!\n",
      "EPOCH: 3 --------------------------------------------------------------------------------\n",
      " generating negatives...\n"
     ]
    },
    {
     "name": "stderr",
     "output_type": "stream",
     "text": [
      "100%|████████████████████████████████████████████████████████████████████████████| 2526/2526 [00:02<00:00, 1163.54it/s]\n"
     ]
    },
    {
     "name": "stdout",
     "output_type": "stream",
     "text": [
      " training...\n",
      "Epoch 1/1\n",
      " - 0s - loss: 0.6927 - acc: 0.5896\n",
      " testing...\n"
     ]
    },
    {
     "name": "stderr",
     "output_type": "stream",
     "text": [
      "100%|█████████████████████████████████████████████████████████████████████████████| 2526/2526 [00:04<00:00, 527.25it/s]\n"
     ]
    },
    {
     "name": "stdout",
     "output_type": "stream",
     "text": [
      " epoch 3 --> loss = 0.6927, ACC = 0.5896, HR = 0.3828\n",
      " Best model found!\n",
      "EPOCH: 4 --------------------------------------------------------------------------------\n",
      " generating negatives...\n"
     ]
    },
    {
     "name": "stderr",
     "output_type": "stream",
     "text": [
      "100%|████████████████████████████████████████████████████████████████████████████| 2526/2526 [00:02<00:00, 1197.72it/s]\n"
     ]
    },
    {
     "name": "stdout",
     "output_type": "stream",
     "text": [
      " training...\n",
      "Epoch 1/1\n",
      " - 0s - loss: 0.6865 - acc: 0.7246\n",
      " testing...\n"
     ]
    },
    {
     "name": "stderr",
     "output_type": "stream",
     "text": [
      "100%|█████████████████████████████████████████████████████████████████████████████| 2526/2526 [00:04<00:00, 521.69it/s]\n"
     ]
    },
    {
     "name": "stdout",
     "output_type": "stream",
     "text": [
      " epoch 4 --> loss = 0.6865, ACC = 0.7246, HR = 0.5871\n",
      " Best model found!\n",
      "EPOCH: 5 --------------------------------------------------------------------------------\n",
      " generating negatives...\n"
     ]
    },
    {
     "name": "stderr",
     "output_type": "stream",
     "text": [
      "100%|████████████████████████████████████████████████████████████████████████████| 2526/2526 [00:02<00:00, 1156.07it/s]\n"
     ]
    },
    {
     "name": "stdout",
     "output_type": "stream",
     "text": [
      " training...\n",
      "Epoch 1/1\n",
      " - 0s - loss: 0.6518 - acc: 0.7654\n",
      " testing...\n"
     ]
    },
    {
     "name": "stderr",
     "output_type": "stream",
     "text": [
      "100%|█████████████████████████████████████████████████████████████████████████████| 2526/2526 [00:04<00:00, 531.23it/s]\n"
     ]
    },
    {
     "name": "stdout",
     "output_type": "stream",
     "text": [
      " epoch 5 --> loss = 0.6518, ACC = 0.7654, HR = 0.6085\n",
      " Best model found!\n",
      "EPOCH: 6 --------------------------------------------------------------------------------\n",
      " generating negatives...\n"
     ]
    },
    {
     "name": "stderr",
     "output_type": "stream",
     "text": [
      "100%|████████████████████████████████████████████████████████████████████████████| 2526/2526 [00:02<00:00, 1161.36it/s]\n"
     ]
    },
    {
     "name": "stdout",
     "output_type": "stream",
     "text": [
      " training...\n",
      "Epoch 1/1\n",
      " - 0s - loss: 0.5855 - acc: 0.7652\n",
      " testing...\n"
     ]
    },
    {
     "name": "stderr",
     "output_type": "stream",
     "text": [
      "100%|█████████████████████████████████████████████████████████████████████████████| 2526/2526 [00:04<00:00, 528.46it/s]\n"
     ]
    },
    {
     "name": "stdout",
     "output_type": "stream",
     "text": [
      " epoch 6 --> loss = 0.5855, ACC = 0.7652, HR = 0.6132\n",
      " Best model found!\n",
      "EPOCH: 7 --------------------------------------------------------------------------------\n",
      " generating negatives...\n"
     ]
    },
    {
     "name": "stderr",
     "output_type": "stream",
     "text": [
      "100%|████████████████████████████████████████████████████████████████████████████| 2526/2526 [00:02<00:00, 1161.37it/s]\n"
     ]
    },
    {
     "name": "stdout",
     "output_type": "stream",
     "text": [
      " training...\n",
      "Epoch 1/1\n",
      " - 0s - loss: 0.5263 - acc: 0.7700\n",
      " testing...\n"
     ]
    },
    {
     "name": "stderr",
     "output_type": "stream",
     "text": [
      "100%|█████████████████████████████████████████████████████████████████████████████| 2526/2526 [00:04<00:00, 508.78it/s]\n"
     ]
    },
    {
     "name": "stdout",
     "output_type": "stream",
     "text": [
      " epoch 7 --> loss = 0.5263, ACC = 0.7700, HR = 0.6144\n",
      " Best model found!\n",
      "EPOCH: 8 --------------------------------------------------------------------------------\n",
      " generating negatives...\n"
     ]
    },
    {
     "name": "stderr",
     "output_type": "stream",
     "text": [
      "100%|█████████████████████████████████████████████████████████████████████████████| 2526/2526 [00:02<00:00, 915.89it/s]\n"
     ]
    },
    {
     "name": "stdout",
     "output_type": "stream",
     "text": [
      " training...\n",
      "Epoch 1/1\n",
      " - 0s - loss: 0.4911 - acc: 0.7765\n",
      " testing...\n"
     ]
    },
    {
     "name": "stderr",
     "output_type": "stream",
     "text": [
      "100%|█████████████████████████████████████████████████████████████████████████████| 2526/2526 [00:05<00:00, 479.14it/s]\n"
     ]
    },
    {
     "name": "stdout",
     "output_type": "stream",
     "text": [
      " epoch 8 --> loss = 0.4911, ACC = 0.7765, HR = 0.6215\n",
      " Best model found!\n",
      "EPOCH: 9 --------------------------------------------------------------------------------\n",
      " generating negatives...\n"
     ]
    },
    {
     "name": "stderr",
     "output_type": "stream",
     "text": [
      "100%|████████████████████████████████████████████████████████████████████████████| 2526/2526 [00:02<00:00, 1007.57it/s]\n"
     ]
    },
    {
     "name": "stdout",
     "output_type": "stream",
     "text": [
      " training...\n",
      "Epoch 1/1\n",
      " - 0s - loss: 0.4719 - acc: 0.7821\n",
      " testing...\n"
     ]
    },
    {
     "name": "stderr",
     "output_type": "stream",
     "text": [
      "100%|█████████████████████████████████████████████████████████████████████████████| 2526/2526 [00:05<00:00, 496.85it/s]\n"
     ]
    },
    {
     "name": "stdout",
     "output_type": "stream",
     "text": [
      " epoch 9 --> loss = 0.4719, ACC = 0.7821, HR = 0.6267\n",
      " Best model found!\n",
      "EPOCH: 10 --------------------------------------------------------------------------------\n",
      " generating negatives...\n"
     ]
    },
    {
     "name": "stderr",
     "output_type": "stream",
     "text": [
      "100%|████████████████████████████████████████████████████████████████████████████| 2526/2526 [00:02<00:00, 1115.73it/s]\n"
     ]
    },
    {
     "name": "stdout",
     "output_type": "stream",
     "text": [
      " training...\n",
      "Epoch 1/1\n",
      " - 0s - loss: 0.4583 - acc: 0.7875\n",
      " testing...\n"
     ]
    },
    {
     "name": "stderr",
     "output_type": "stream",
     "text": [
      "100%|█████████████████████████████████████████████████████████████████████████████| 2526/2526 [00:04<00:00, 515.72it/s]\n"
     ]
    },
    {
     "name": "stdout",
     "output_type": "stream",
     "text": [
      " epoch 10 --> loss = 0.4583, ACC = 0.7875, HR = 0.6330\n",
      " Best model found!\n"
     ]
    }
   ],
   "source": [
    "train_GMF(all_ratings,train_ratings,test_data,user_2_neg_items_vect,num_epochs=10)"
   ]
  },
  {
   "cell_type": "code",
   "execution_count": 124,
   "metadata": {},
   "outputs": [
    {
     "data": {
      "image/png": "[encoded data removed]",
      "text/plain": [
       "<Figure size 576x432 with 1 Axes>"
      ]
     },
     "metadata": {},
     "output_type": "display_data"
    }
   ],
   "source": [
    "hr_gmf = np.load('metric/hr_vect_GMF.npy')\n",
    "\n",
    "plt.figure(figsize=(8, 6))\n",
    "plt.xlim([0,15])\n",
    "plt.ylim([0,1.0])\n",
    "plt.title('Hit Ratio Metric - Test set') # en realidad solo fue 60k por filtrado en fechas\n",
    "plt.plot(hr_gmf)\n",
    "plt.scatter(np.argmax(hr_gmf),np.max(hr_gmf),linewidths=5)\n",
    "plt.text(np.argmax(hr_gmf),np.max(hr_gmf),np.round(np.max(hr_gmf),3), fontsize=11)\n",
    "plt.legend(['GMF'],\n",
    "           loc='upper right')\n",
    "plt.xlabel('Epoch')\n",
    "#plt.savefig('results_benf_ludnet_vs_ludnet_v2.png')\n",
    "plt.show()"
   ]
  },
  {
   "cell_type": "code",
   "execution_count": 102,
   "metadata": {
    "scrolled": true
   },
   "outputs": [
    {
     "name": "stderr",
     "output_type": "stream",
     "text": [
      "C:\\Anaconda3\\envs\\py36\\lib\\site-packages\\ipykernel_launcher.py:42: UserWarning: Update your `Model` call to the Keras 2 API: `Model(inputs=[<tf.Tenso..., outputs=Tensor(\"pr...)`\n"
     ]
    },
    {
     "name": "stdout",
     "output_type": "stream",
     "text": [
      "__________________________________________________________________________________________________\n",
      "Layer (type)                    Output Shape         Param #     Connected to                     \n",
      "==================================================================================================\n",
      "user_input (InputLayer)         (None, None)         0                                            \n",
      "__________________________________________________________________________________________________\n",
      "item_input (InputLayer)         (None, None)         0                                            \n",
      "__________________________________________________________________________________________________\n",
      "user_embedding (Embedding)      (None, 1, 8)         20208       user_input[0][0]                 \n",
      "__________________________________________________________________________________________________\n",
      "item_embedding (Embedding)      (None, 1, 10)        322780      item_input[0][0]                 \n",
      "__________________________________________________________________________________________________\n",
      "flatten_27 (Flatten)            (None, 8)            0           user_embedding[0][0]             \n",
      "__________________________________________________________________________________________________\n",
      "flatten_28 (Flatten)            (None, 10)           0           item_embedding[0][0]             \n",
      "__________________________________________________________________________________________________\n",
      "dropout_15 (Dropout)            (None, 8)            0           flatten_27[0][0]                 \n",
      "__________________________________________________________________________________________________\n",
      "dropout_16 (Dropout)            (None, 10)           0           flatten_28[0][0]                 \n",
      "__________________________________________________________________________________________________\n",
      "concatenate_0 (Concatenate)     (None, 18)           0           dropout_15[0][0]                 \n",
      "                                                                 dropout_16[0][0]                 \n",
      "__________________________________________________________________________________________________\n",
      "layer1 (Dense)                  (None, 32)           608         concatenate_0[0][0]              \n",
      "__________________________________________________________________________________________________\n",
      "layer2 (Dense)                  (None, 16)           528         layer1[0][0]                     \n",
      "__________________________________________________________________________________________________\n",
      "layer3 (Dense)                  (None, 8)            136         layer2[0][0]                     \n",
      "__________________________________________________________________________________________________\n",
      "prediction (Dense)              (None, 1)            9           layer3[0][0]                     \n",
      "==================================================================================================\n",
      "Total params: 344,269\n",
      "Trainable params: 344,269\n",
      "Non-trainable params: 0\n",
      "__________________________________________________________________________________________________\n",
      "EPOCH: 1 --------------------------------------------------------------------------------\n",
      " generating negatives...\n"
     ]
    },
    {
     "name": "stderr",
     "output_type": "stream",
     "text": [
      "100%|████████████████████████████████████████████████████████████████████████████| 2526/2526 [00:02<00:00, 1072.14it/s]\n",
      "C:\\Anaconda3\\envs\\py36\\lib\\site-packages\\ipykernel_launcher.py:16: FutureWarning: Sorting because non-concatenation axis is not aligned. A future version\n",
      "of pandas will change to not sort by default.\n",
      "\n",
      "To accept the future behavior, pass 'sort=True'.\n",
      "\n",
      "To retain the current behavior and silence the warning, pass sort=False\n",
      "\n",
      "  app.launch_new_instance()\n"
     ]
    },
    {
     "name": "stdout",
     "output_type": "stream",
     "text": [
      " training...\n",
      "Epoch 1/1\n",
      " - 2s - loss: 0.6929 - acc: 0.5128\n",
      " testing...\n"
     ]
    },
    {
     "name": "stderr",
     "output_type": "stream",
     "text": [
      "100%|█████████████████████████████████████████████████████████████████████████████| 2526/2526 [00:05<00:00, 481.60it/s]\n"
     ]
    },
    {
     "name": "stdout",
     "output_type": "stream",
     "text": [
      " epoch 1 --> loss = 0.6929, ACC = 0.5128, HR = 0.1338\n",
      " Best model found!\n",
      "EPOCH: 2 --------------------------------------------------------------------------------\n",
      " generating negatives...\n"
     ]
    },
    {
     "name": "stderr",
     "output_type": "stream",
     "text": [
      "100%|████████████████████████████████████████████████████████████████████████████| 2526/2526 [00:02<00:00, 1061.78it/s]\n"
     ]
    },
    {
     "name": "stdout",
     "output_type": "stream",
     "text": [
      " training...\n",
      "Epoch 1/1\n",
      " - 1s - loss: 0.6917 - acc: 0.5513\n",
      " testing...\n"
     ]
    },
    {
     "name": "stderr",
     "output_type": "stream",
     "text": [
      "100%|█████████████████████████████████████████████████████████████████████████████| 2526/2526 [00:06<00:00, 420.30it/s]\n"
     ]
    },
    {
     "name": "stdout",
     "output_type": "stream",
     "text": [
      " epoch 2 --> loss = 0.6917, ACC = 0.5513, HR = 0.2185\n",
      " Best model found!\n",
      "EPOCH: 3 --------------------------------------------------------------------------------\n",
      " generating negatives...\n"
     ]
    },
    {
     "name": "stderr",
     "output_type": "stream",
     "text": [
      "100%|█████████████████████████████████████████████████████████████████████████████| 2526/2526 [00:04<00:00, 558.36it/s]\n"
     ]
    },
    {
     "name": "stdout",
     "output_type": "stream",
     "text": [
      " training...\n",
      "Epoch 1/1\n",
      " - 1s - loss: 0.6861 - acc: 0.6075\n",
      " testing...\n"
     ]
    },
    {
     "name": "stderr",
     "output_type": "stream",
     "text": [
      "100%|█████████████████████████████████████████████████████████████████████████████| 2526/2526 [00:06<00:00, 413.29it/s]\n"
     ]
    },
    {
     "name": "stdout",
     "output_type": "stream",
     "text": [
      " epoch 3 --> loss = 0.6861, ACC = 0.6075, HR = 0.3599\n",
      " Best model found!\n",
      "EPOCH: 4 --------------------------------------------------------------------------------\n",
      " generating negatives...\n"
     ]
    },
    {
     "name": "stderr",
     "output_type": "stream",
     "text": [
      "100%|████████████████████████████████████████████████████████████████████████████| 2526/2526 [00:02<00:00, 1126.68it/s]\n"
     ]
    },
    {
     "name": "stdout",
     "output_type": "stream",
     "text": [
      " training...\n",
      "Epoch 1/1\n",
      " - 1s - loss: 0.6685 - acc: 0.6701\n",
      " testing...\n"
     ]
    },
    {
     "name": "stderr",
     "output_type": "stream",
     "text": [
      "100%|█████████████████████████████████████████████████████████████████████████████| 2526/2526 [00:04<00:00, 561.71it/s]\n"
     ]
    },
    {
     "name": "stdout",
     "output_type": "stream",
     "text": [
      " epoch 4 --> loss = 0.6685, ACC = 0.6701, HR = 0.4683\n",
      " Best model found!\n",
      "EPOCH: 5 --------------------------------------------------------------------------------\n",
      " generating negatives...\n"
     ]
    },
    {
     "name": "stderr",
     "output_type": "stream",
     "text": [
      "100%|████████████████████████████████████████████████████████████████████████████| 2526/2526 [00:02<00:00, 1241.89it/s]\n"
     ]
    },
    {
     "name": "stdout",
     "output_type": "stream",
     "text": [
      " training...\n",
      "Epoch 1/1\n",
      " - 1s - loss: 0.6326 - acc: 0.7176\n",
      " testing...\n"
     ]
    },
    {
     "name": "stderr",
     "output_type": "stream",
     "text": [
      "100%|█████████████████████████████████████████████████████████████████████████████| 2526/2526 [00:04<00:00, 564.72it/s]\n"
     ]
    },
    {
     "name": "stdout",
     "output_type": "stream",
     "text": [
      " epoch 5 --> loss = 0.6326, ACC = 0.7176, HR = 0.5360\n",
      " Best model found!\n",
      "EPOCH: 6 --------------------------------------------------------------------------------\n",
      " generating negatives...\n"
     ]
    },
    {
     "name": "stderr",
     "output_type": "stream",
     "text": [
      "100%|████████████████████████████████████████████████████████████████████████████| 2526/2526 [00:02<00:00, 1237.62it/s]\n"
     ]
    },
    {
     "name": "stdout",
     "output_type": "stream",
     "text": [
      " training...\n",
      "Epoch 1/1\n",
      " - 1s - loss: 0.5871 - acc: 0.7433\n",
      " testing...\n"
     ]
    },
    {
     "name": "stderr",
     "output_type": "stream",
     "text": [
      "100%|█████████████████████████████████████████████████████████████████████████████| 2526/2526 [00:04<00:00, 567.59it/s]\n"
     ]
    },
    {
     "name": "stdout",
     "output_type": "stream",
     "text": [
      " epoch 6 --> loss = 0.5871, ACC = 0.7433, HR = 0.5649\n",
      " Best model found!\n",
      "EPOCH: 7 --------------------------------------------------------------------------------\n",
      " generating negatives...\n"
     ]
    },
    {
     "name": "stderr",
     "output_type": "stream",
     "text": [
      "100%|████████████████████████████████████████████████████████████████████████████| 2526/2526 [00:02<00:00, 1254.25it/s]\n"
     ]
    },
    {
     "name": "stdout",
     "output_type": "stream",
     "text": [
      " training...\n",
      "Epoch 1/1\n",
      " - 1s - loss: 0.5456 - acc: 0.7585\n",
      " testing...\n"
     ]
    },
    {
     "name": "stderr",
     "output_type": "stream",
     "text": [
      "100%|█████████████████████████████████████████████████████████████████████████████| 2526/2526 [00:04<00:00, 555.29it/s]\n"
     ]
    },
    {
     "name": "stdout",
     "output_type": "stream",
     "text": [
      " epoch 7 --> loss = 0.5456, ACC = 0.7585, HR = 0.5748\n",
      " Best model found!\n",
      "EPOCH: 8 --------------------------------------------------------------------------------\n",
      " generating negatives...\n"
     ]
    },
    {
     "name": "stderr",
     "output_type": "stream",
     "text": [
      "100%|████████████████████████████████████████████████████████████████████████████| 2526/2526 [00:02<00:00, 1216.16it/s]\n"
     ]
    },
    {
     "name": "stdout",
     "output_type": "stream",
     "text": [
      " training...\n",
      "Epoch 1/1\n",
      " - 1s - loss: 0.5186 - acc: 0.7654\n",
      " testing...\n"
     ]
    },
    {
     "name": "stderr",
     "output_type": "stream",
     "text": [
      "100%|█████████████████████████████████████████████████████████████████████████████| 2526/2526 [00:04<00:00, 563.84it/s]\n"
     ]
    },
    {
     "name": "stdout",
     "output_type": "stream",
     "text": [
      " epoch 8 --> loss = 0.5186, ACC = 0.7654, HR = 0.5812\n",
      " Best model found!\n",
      "EPOCH: 9 --------------------------------------------------------------------------------\n",
      " generating negatives...\n"
     ]
    },
    {
     "name": "stderr",
     "output_type": "stream",
     "text": [
      "100%|████████████████████████████████████████████████████████████████████████████| 2526/2526 [00:02<00:00, 1247.40it/s]\n"
     ]
    },
    {
     "name": "stdout",
     "output_type": "stream",
     "text": [
      " training...\n",
      "Epoch 1/1\n",
      " - 1s - loss: 0.5022 - acc: 0.7701\n",
      " testing...\n"
     ]
    },
    {
     "name": "stderr",
     "output_type": "stream",
     "text": [
      "100%|█████████████████████████████████████████████████████████████████████████████| 2526/2526 [00:04<00:00, 557.86it/s]\n"
     ]
    },
    {
     "name": "stdout",
     "output_type": "stream",
     "text": [
      " epoch 9 --> loss = 0.5022, ACC = 0.7701, HR = 0.5871\n",
      " Best model found!\n",
      "EPOCH: 10 --------------------------------------------------------------------------------\n",
      " generating negatives...\n"
     ]
    },
    {
     "name": "stderr",
     "output_type": "stream",
     "text": [
      "100%|████████████████████████████████████████████████████████████████████████████| 2526/2526 [00:02<00:00, 1216.75it/s]\n"
     ]
    },
    {
     "name": "stdout",
     "output_type": "stream",
     "text": [
      " training...\n",
      "Epoch 1/1\n",
      " - 1s - loss: 0.4911 - acc: 0.7745\n",
      " testing...\n"
     ]
    },
    {
     "name": "stderr",
     "output_type": "stream",
     "text": [
      "100%|█████████████████████████████████████████████████████████████████████████████| 2526/2526 [00:04<00:00, 552.97it/s]\n"
     ]
    },
    {
     "name": "stdout",
     "output_type": "stream",
     "text": [
      " epoch 10 --> loss = 0.4911, ACC = 0.7745, HR = 0.5867\n"
     ]
    }
   ],
   "source": [
    "train_MLP(all_ratings,train_ratings,test_data,user_2_neg_items_vect,num_epochs=10)"
   ]
  },
  {
   "cell_type": "code",
   "execution_count": 103,
   "metadata": {},
   "outputs": [
    {
     "data": {
      "image/png": "[encoded data removed]",
      "text/plain": [
       "<Figure size 576x432 with 1 Axes>"
      ]
     },
     "metadata": {},
     "output_type": "display_data"
    }
   ],
   "source": [
    "hr_gmf = np.load('metric/hr_vect_GMF.npy')\n",
    "hr_mlp = np.load('metric/hr_vect_MLP.npy')\n",
    "\n",
    "plt.figure(figsize=(8, 6))\n",
    "plt.xlim([0,15])\n",
    "plt.ylim([0,1.0])\n",
    "plt.title('Hit Ratio Metric - Test set') # en realidad solo fue 60k por filtrado en fechas\n",
    "plt.plot(hr_gmf)\n",
    "plt.scatter(np.argmax(hr_gmf),np.max(hr_gmf),linewidths=5)\n",
    "plt.text(np.argmax(hr_gmf),np.max(hr_gmf),np.round(np.max(hr_gmf),3), fontsize=11)\n",
    "plt.plot(hr_mlp)\n",
    "plt.scatter(np.argmax(hr_mlp),np.max(hr_mlp),linewidths=5)\n",
    "plt.text(np.argmax(hr_mlp),np.max(hr_mlp),np.round(np.max(hr_mlp),3), fontsize=11)\n",
    "plt.legend(['GMF','MLP'],\n",
    "           loc='upper right')\n",
    "plt.xlabel('Epoch')\n",
    "#plt.savefig('results_benf_ludnet_vs_ludnet_v2.png')\n",
    "plt.show()"
   ]
  },
  {
   "cell_type": "code",
   "execution_count": 117,
   "metadata": {
    "scrolled": true
   },
   "outputs": [
    {
     "name": "stderr",
     "output_type": "stream",
     "text": [
      "C:\\Anaconda3\\envs\\py36\\lib\\site-packages\\ipykernel_launcher.py:52: UserWarning: Update your `Model` call to the Keras 2 API: `Model(inputs=[<tf.Tenso..., outputs=Tensor(\"pr...)`\n"
     ]
    },
    {
     "name": "stdout",
     "output_type": "stream",
     "text": [
      "__________________________________________________________________________________________________\n",
      "Layer (type)                    Output Shape         Param #     Connected to                     \n",
      "==================================================================================================\n",
      "user_input (InputLayer)         (None, None)         0                                            \n",
      "__________________________________________________________________________________________________\n",
      "item_input (InputLayer)         (None, None)         0                                            \n",
      "__________________________________________________________________________________________________\n",
      "mlp_embedding_user (Embedding)  (None, 1, 8)         20208       user_input[0][0]                 \n",
      "__________________________________________________________________________________________________\n",
      "mlp_embedding_item (Embedding)  (None, 1, 10)        322780      item_input[0][0]                 \n",
      "__________________________________________________________________________________________________\n",
      "flatten_55 (Flatten)            (None, 8)            0           mlp_embedding_user[0][0]         \n",
      "__________________________________________________________________________________________________\n",
      "flatten_56 (Flatten)            (None, 10)           0           mlp_embedding_item[0][0]         \n",
      "__________________________________________________________________________________________________\n",
      "dropout_29 (Dropout)            (None, 8)            0           flatten_55[0][0]                 \n",
      "__________________________________________________________________________________________________\n",
      "dropout_30 (Dropout)            (None, 10)           0           flatten_56[0][0]                 \n",
      "__________________________________________________________________________________________________\n",
      "concatenate_0 (Concatenate)     (None, 18)           0           dropout_29[0][0]                 \n",
      "                                                                 dropout_30[0][0]                 \n",
      "__________________________________________________________________________________________________\n",
      "gmf_embedding_user (Embedding)  (None, 1, 8)         20208       user_input[0][0]                 \n",
      "__________________________________________________________________________________________________\n",
      "gmf_embedding_item (Embedding)  (None, 1, 8)         258224      item_input[0][0]                 \n",
      "__________________________________________________________________________________________________\n",
      "layer1 (Dense)                  (None, 32)           608         concatenate_0[0][0]              \n",
      "__________________________________________________________________________________________________\n",
      "flatten_53 (Flatten)            (None, 8)            0           gmf_embedding_user[0][0]         \n",
      "__________________________________________________________________________________________________\n",
      "flatten_54 (Flatten)            (None, 8)            0           gmf_embedding_item[0][0]         \n",
      "__________________________________________________________________________________________________\n",
      "layer2 (Dense)                  (None, 16)           528         layer1[0][0]                     \n",
      "__________________________________________________________________________________________________\n",
      "multiply_13 (Multiply)          (None, 8)            0           flatten_53[0][0]                 \n",
      "                                                                 flatten_54[0][0]                 \n",
      "__________________________________________________________________________________________________\n",
      "layer3 (Dense)                  (None, 8)            136         layer2[0][0]                     \n",
      "__________________________________________________________________________________________________\n",
      "concatenate_1 (Concatenate)     (None, 16)           0           multiply_13[0][0]                \n",
      "                                                                 layer3[0][0]                     \n",
      "__________________________________________________________________________________________________\n",
      "prediction (Dense)              (None, 1)            17          concatenate_1[0][0]              \n",
      "==================================================================================================\n",
      "Total params: 622,709\n",
      "Trainable params: 622,709\n",
      "Non-trainable params: 0\n",
      "__________________________________________________________________________________________________\n",
      "None\n",
      "Loading pre-train weights ... \n"
     ]
    },
    {
     "name": "stderr",
     "output_type": "stream",
     "text": [
      "C:\\Anaconda3\\envs\\py36\\lib\\site-packages\\ipykernel_launcher.py:30: UserWarning: Update your `Model` call to the Keras 2 API: `Model(inputs=[<tf.Tenso..., outputs=Tensor(\"pr...)`\n",
      "C:\\Anaconda3\\envs\\py36\\lib\\site-packages\\ipykernel_launcher.py:42: UserWarning: Update your `Model` call to the Keras 2 API: `Model(inputs=[<tf.Tenso..., outputs=Tensor(\"pr...)`\n"
     ]
    },
    {
     "name": "stdout",
     "output_type": "stream",
     "text": [
      "Load pretrained GMF (%s) and MLP (%s) models done. \n",
      "Trainig loop...\n",
      "EPOCH: 1 --------------------------------------------------------------------------------\n",
      " generating negatives...\n"
     ]
    },
    {
     "name": "stderr",
     "output_type": "stream",
     "text": [
      "100%|████████████████████████████████████████████████████████████████████████████| 2526/2526 [00:02<00:00, 1094.93it/s]\n",
      "C:\\Anaconda3\\envs\\py36\\lib\\site-packages\\ipykernel_launcher.py:16: FutureWarning: Sorting because non-concatenation axis is not aligned. A future version\n",
      "of pandas will change to not sort by default.\n",
      "\n",
      "To accept the future behavior, pass 'sort=True'.\n",
      "\n",
      "To retain the current behavior and silence the warning, pass sort=False\n",
      "\n",
      "  app.launch_new_instance()\n"
     ]
    },
    {
     "name": "stdout",
     "output_type": "stream",
     "text": [
      " training...\n",
      "Epoch 1/1\n",
      " - 2s - loss: 0.4650 - acc: 0.7846\n",
      " testing...\n"
     ]
    },
    {
     "name": "stderr",
     "output_type": "stream",
     "text": [
      "100%|█████████████████████████████████████████████████████████████████████████████| 2526/2526 [00:05<00:00, 492.41it/s]\n"
     ]
    },
    {
     "name": "stdout",
     "output_type": "stream",
     "text": [
      " epoch 1 --> loss = 0.4650, ACC = 0.7846, HR = 0.6386\n",
      " Best model found!\n",
      "EPOCH: 2 --------------------------------------------------------------------------------\n",
      " generating negatives...\n"
     ]
    },
    {
     "name": "stderr",
     "output_type": "stream",
     "text": [
      "100%|████████████████████████████████████████████████████████████████████████████| 2526/2526 [00:02<00:00, 1170.46it/s]\n"
     ]
    },
    {
     "name": "stdout",
     "output_type": "stream",
     "text": [
      " training...\n",
      "Epoch 1/1\n",
      " - 1s - loss: 0.4266 - acc: 0.8083\n",
      " testing...\n"
     ]
    },
    {
     "name": "stderr",
     "output_type": "stream",
     "text": [
      "100%|█████████████████████████████████████████████████████████████████████████████| 2526/2526 [00:04<00:00, 513.84it/s]\n"
     ]
    },
    {
     "name": "stdout",
     "output_type": "stream",
     "text": [
      " epoch 2 --> loss = 0.4266, ACC = 0.8083, HR = 0.6639\n",
      " Best model found!\n",
      "EPOCH: 3 --------------------------------------------------------------------------------\n",
      " generating negatives...\n"
     ]
    },
    {
     "name": "stderr",
     "output_type": "stream",
     "text": [
      "100%|████████████████████████████████████████████████████████████████████████████| 2526/2526 [00:02<00:00, 1085.53it/s]\n"
     ]
    },
    {
     "name": "stdout",
     "output_type": "stream",
     "text": [
      " training...\n",
      "Epoch 1/1\n",
      " - 1s - loss: 0.3929 - acc: 0.8261\n",
      " testing...\n"
     ]
    },
    {
     "name": "stderr",
     "output_type": "stream",
     "text": [
      "100%|█████████████████████████████████████████████████████████████████████████████| 2526/2526 [00:04<00:00, 560.53it/s]\n"
     ]
    },
    {
     "name": "stdout",
     "output_type": "stream",
     "text": [
      " epoch 3 --> loss = 0.3929, ACC = 0.8261, HR = 0.6892\n",
      " Best model found!\n",
      "EPOCH: 4 --------------------------------------------------------------------------------\n",
      " generating negatives...\n"
     ]
    },
    {
     "name": "stderr",
     "output_type": "stream",
     "text": [
      "100%|████████████████████████████████████████████████████████████████████████████| 2526/2526 [00:02<00:00, 1219.70it/s]\n"
     ]
    },
    {
     "name": "stdout",
     "output_type": "stream",
     "text": [
      " training...\n",
      "Epoch 1/1\n",
      " - 1s - loss: 0.3610 - acc: 0.8422\n",
      " testing...\n"
     ]
    },
    {
     "name": "stderr",
     "output_type": "stream",
     "text": [
      "100%|█████████████████████████████████████████████████████████████████████████████| 2526/2526 [00:05<00:00, 454.81it/s]\n"
     ]
    },
    {
     "name": "stdout",
     "output_type": "stream",
     "text": [
      " epoch 4 --> loss = 0.3610, ACC = 0.8422, HR = 0.7023\n",
      " Best model found!\n",
      "EPOCH: 5 --------------------------------------------------------------------------------\n",
      " generating negatives...\n"
     ]
    },
    {
     "name": "stderr",
     "output_type": "stream",
     "text": [
      "100%|████████████████████████████████████████████████████████████████████████████| 2526/2526 [00:02<00:00, 1159.78it/s]\n"
     ]
    },
    {
     "name": "stdout",
     "output_type": "stream",
     "text": [
      " training...\n",
      "Epoch 1/1\n",
      " - 1s - loss: 0.3288 - acc: 0.8586\n",
      " testing...\n"
     ]
    },
    {
     "name": "stderr",
     "output_type": "stream",
     "text": [
      "100%|█████████████████████████████████████████████████████████████████████████████| 2526/2526 [00:04<00:00, 549.14it/s]\n"
     ]
    },
    {
     "name": "stdout",
     "output_type": "stream",
     "text": [
      " epoch 5 --> loss = 0.3288, ACC = 0.8586, HR = 0.7158\n",
      " Best model found!\n",
      "EPOCH: 6 --------------------------------------------------------------------------------\n",
      " generating negatives...\n"
     ]
    },
    {
     "name": "stderr",
     "output_type": "stream",
     "text": [
      "100%|████████████████████████████████████████████████████████████████████████████| 2526/2526 [00:02<00:00, 1212.17it/s]\n"
     ]
    },
    {
     "name": "stdout",
     "output_type": "stream",
     "text": [
      " training...\n",
      "Epoch 1/1\n",
      " - 1s - loss: 0.3003 - acc: 0.8736\n",
      " testing...\n"
     ]
    },
    {
     "name": "stderr",
     "output_type": "stream",
     "text": [
      "100%|█████████████████████████████████████████████████████████████████████████████| 2526/2526 [00:04<00:00, 556.50it/s]\n"
     ]
    },
    {
     "name": "stdout",
     "output_type": "stream",
     "text": [
      " epoch 6 --> loss = 0.3003, ACC = 0.8736, HR = 0.7217\n",
      " Best model found!\n",
      "EPOCH: 7 --------------------------------------------------------------------------------\n",
      " generating negatives...\n"
     ]
    },
    {
     "name": "stderr",
     "output_type": "stream",
     "text": [
      "100%|████████████████████████████████████████████████████████████████████████████| 2526/2526 [00:02<00:00, 1224.45it/s]\n"
     ]
    },
    {
     "name": "stdout",
     "output_type": "stream",
     "text": [
      " training...\n",
      "Epoch 1/1\n",
      " - 1s - loss: 0.2754 - acc: 0.8865\n",
      " testing...\n"
     ]
    },
    {
     "name": "stderr",
     "output_type": "stream",
     "text": [
      "100%|█████████████████████████████████████████████████████████████████████████████| 2526/2526 [00:04<00:00, 514.99it/s]\n"
     ]
    },
    {
     "name": "stdout",
     "output_type": "stream",
     "text": [
      " epoch 7 --> loss = 0.2754, ACC = 0.8865, HR = 0.7205\n",
      "EPOCH: 8 --------------------------------------------------------------------------------\n",
      " generating negatives...\n"
     ]
    },
    {
     "name": "stderr",
     "output_type": "stream",
     "text": [
      "100%|████████████████████████████████████████████████████████████████████████████| 2526/2526 [00:02<00:00, 1082.47it/s]\n"
     ]
    },
    {
     "name": "stdout",
     "output_type": "stream",
     "text": [
      " training...\n",
      "Epoch 1/1\n",
      " - 1s - loss: 0.2547 - acc: 0.8972\n",
      " testing...\n"
     ]
    },
    {
     "name": "stderr",
     "output_type": "stream",
     "text": [
      "100%|█████████████████████████████████████████████████████████████████████████████| 2526/2526 [00:04<00:00, 512.38it/s]\n"
     ]
    },
    {
     "name": "stdout",
     "output_type": "stream",
     "text": [
      " epoch 8 --> loss = 0.2547, ACC = 0.8972, HR = 0.7177\n",
      "EPOCH: 9 --------------------------------------------------------------------------------\n",
      " generating negatives...\n"
     ]
    },
    {
     "name": "stderr",
     "output_type": "stream",
     "text": [
      "100%|████████████████████████████████████████████████████████████████████████████| 2526/2526 [00:02<00:00, 1173.26it/s]\n"
     ]
    },
    {
     "name": "stdout",
     "output_type": "stream",
     "text": [
      " training...\n",
      "Epoch 1/1\n",
      " - 1s - loss: 0.2370 - acc: 0.9067\n",
      " testing...\n"
     ]
    },
    {
     "name": "stderr",
     "output_type": "stream",
     "text": [
      "100%|█████████████████████████████████████████████████████████████████████████████| 2526/2526 [00:05<00:00, 440.14it/s]\n"
     ]
    },
    {
     "name": "stdout",
     "output_type": "stream",
     "text": [
      " epoch 9 --> loss = 0.2370, ACC = 0.9067, HR = 0.7162\n",
      "EPOCH: 10 --------------------------------------------------------------------------------\n",
      " generating negatives...\n"
     ]
    },
    {
     "name": "stderr",
     "output_type": "stream",
     "text": [
      "100%|█████████████████████████████████████████████████████████████████████████████| 2526/2526 [00:02<00:00, 951.19it/s]\n"
     ]
    },
    {
     "name": "stdout",
     "output_type": "stream",
     "text": [
      " training...\n",
      "Epoch 1/1\n",
      " - 1s - loss: 0.2222 - acc: 0.9148\n",
      " testing...\n"
     ]
    },
    {
     "name": "stderr",
     "output_type": "stream",
     "text": [
      "100%|█████████████████████████████████████████████████████████████████████████████| 2526/2526 [00:06<00:00, 414.31it/s]\n"
     ]
    },
    {
     "name": "stdout",
     "output_type": "stream",
     "text": [
      " epoch 10 --> loss = 0.2222, ACC = 0.9148, HR = 0.7205\n"
     ]
    }
   ],
   "source": [
    "train_model_NeuMF(all_ratings ,train_ratings ,test_data, user_2_neg_items_vect, num_epochs=10, pre_train=True)"
   ]
  },
  {
   "cell_type": "code",
   "execution_count": 118,
   "metadata": {},
   "outputs": [
    {
     "data": {
      "image/png": "[encoded data removed]",
      "text/plain": [
       "<Figure size 576x432 with 1 Axes>"
      ]
     },
     "metadata": {},
     "output_type": "display_data"
    }
   ],
   "source": [
    "hr_gmf = np.load('metric/hr_vect_GMF.npy')\n",
    "hr_mlp = np.load('metric/hr_vect_MLP.npy')\n",
    "hr_neumf = np.load('metric/hr_vect_NeuMF.npy')\n",
    "\n",
    "plt.figure(figsize=(8, 6))\n",
    "plt.xlim([0,15])\n",
    "plt.ylim([0,1.0])\n",
    "plt.title('Hit Ratio Metric - Test set') # en realidad solo fue 60k por filtrado en fechas\n",
    "plt.plot(hr_gmf)\n",
    "plt.scatter(np.argmax(hr_gmf),np.max(hr_gmf),linewidths=5)\n",
    "plt.text(np.argmax(hr_gmf),np.max(hr_gmf),np.round(np.max(hr_gmf),3), fontsize=11)\n",
    "plt.plot(hr_mlp)\n",
    "plt.scatter(np.argmax(hr_mlp),np.max(hr_mlp),linewidths=5)\n",
    "plt.text(np.argmax(hr_mlp),np.max(hr_mlp),np.round(np.max(hr_mlp),3), fontsize=11)\n",
    "plt.plot(hr_neumf)\n",
    "plt.scatter(np.argmax(hr_neumf),np.max(hr_neumf),linewidths=5)\n",
    "plt.text(np.argmax(hr_neumf),np.max(hr_neumf),np.round(np.max(hr_neumf),3), fontsize=11)\n",
    "plt.legend(['GMF','MLP','NeuMF'],\n",
    "           loc='upper right')\n",
    "plt.xlabel('Epoch')\n",
    "#plt.savefig('results_benf_ludnet_vs_ludnet_v2.png')\n",
    "plt.show()"
   ]
  },
  {
   "cell_type": "code",
   "execution_count": 113,
   "metadata": {
    "scrolled": true
   },
   "outputs": [
    {
     "name": "stderr",
     "output_type": "stream",
     "text": [
      "C:\\Anaconda3\\envs\\py36\\lib\\site-packages\\ipykernel_launcher.py:52: UserWarning: Update your `Model` call to the Keras 2 API: `Model(inputs=[<tf.Tenso..., outputs=Tensor(\"pr...)`\n"
     ]
    },
    {
     "name": "stdout",
     "output_type": "stream",
     "text": [
      "__________________________________________________________________________________________________\n",
      "Layer (type)                    Output Shape         Param #     Connected to                     \n",
      "==================================================================================================\n",
      "user_input (InputLayer)         (None, None)         0                                            \n",
      "__________________________________________________________________________________________________\n",
      "item_input (InputLayer)         (None, None)         0                                            \n",
      "__________________________________________________________________________________________________\n",
      "mlp_embedding_user (Embedding)  (None, 1, 8)         20208       user_input[0][0]                 \n",
      "__________________________________________________________________________________________________\n",
      "mlp_embedding_item (Embedding)  (None, 1, 10)        322780      item_input[0][0]                 \n",
      "__________________________________________________________________________________________________\n",
      "flatten_51 (Flatten)            (None, 8)            0           mlp_embedding_user[0][0]         \n",
      "__________________________________________________________________________________________________\n",
      "flatten_52 (Flatten)            (None, 10)           0           mlp_embedding_item[0][0]         \n",
      "__________________________________________________________________________________________________\n",
      "dropout_27 (Dropout)            (None, 8)            0           flatten_51[0][0]                 \n",
      "__________________________________________________________________________________________________\n",
      "dropout_28 (Dropout)            (None, 10)           0           flatten_52[0][0]                 \n",
      "__________________________________________________________________________________________________\n",
      "concatenate_0 (Concatenate)     (None, 18)           0           dropout_27[0][0]                 \n",
      "                                                                 dropout_28[0][0]                 \n",
      "__________________________________________________________________________________________________\n",
      "gmf_embedding_user (Embedding)  (None, 1, 8)         20208       user_input[0][0]                 \n",
      "__________________________________________________________________________________________________\n",
      "gmf_embedding_item (Embedding)  (None, 1, 8)         258224      item_input[0][0]                 \n",
      "__________________________________________________________________________________________________\n",
      "layer1 (Dense)                  (None, 32)           608         concatenate_0[0][0]              \n",
      "__________________________________________________________________________________________________\n",
      "flatten_49 (Flatten)            (None, 8)            0           gmf_embedding_user[0][0]         \n",
      "__________________________________________________________________________________________________\n",
      "flatten_50 (Flatten)            (None, 8)            0           gmf_embedding_item[0][0]         \n",
      "__________________________________________________________________________________________________\n",
      "layer2 (Dense)                  (None, 16)           528         layer1[0][0]                     \n",
      "__________________________________________________________________________________________________\n",
      "multiply_12 (Multiply)          (None, 8)            0           flatten_49[0][0]                 \n",
      "                                                                 flatten_50[0][0]                 \n",
      "__________________________________________________________________________________________________\n",
      "layer3 (Dense)                  (None, 8)            136         layer2[0][0]                     \n",
      "__________________________________________________________________________________________________\n",
      "concatenate_1 (Concatenate)     (None, 16)           0           multiply_12[0][0]                \n",
      "                                                                 layer3[0][0]                     \n",
      "__________________________________________________________________________________________________\n",
      "prediction (Dense)              (None, 1)            17          concatenate_1[0][0]              \n",
      "==================================================================================================\n",
      "Total params: 622,709\n",
      "Trainable params: 622,709\n",
      "Non-trainable params: 0\n",
      "__________________________________________________________________________________________________\n",
      "None\n",
      "Trainig loop...\n",
      "EPOCH: 1 --------------------------------------------------------------------------------\n",
      " generating negatives...\n"
     ]
    },
    {
     "name": "stderr",
     "output_type": "stream",
     "text": [
      "100%|████████████████████████████████████████████████████████████████████████████| 2526/2526 [00:02<00:00, 1128.17it/s]\n",
      "C:\\Anaconda3\\envs\\py36\\lib\\site-packages\\ipykernel_launcher.py:16: FutureWarning: Sorting because non-concatenation axis is not aligned. A future version\n",
      "of pandas will change to not sort by default.\n",
      "\n",
      "To accept the future behavior, pass 'sort=True'.\n",
      "\n",
      "To retain the current behavior and silence the warning, pass sort=False\n",
      "\n",
      "  app.launch_new_instance()\n"
     ]
    },
    {
     "name": "stdout",
     "output_type": "stream",
     "text": [
      " training...\n",
      "Epoch 1/1\n",
      " - 2s - loss: 0.6931 - acc: 0.5059\n",
      " testing...\n"
     ]
    },
    {
     "name": "stderr",
     "output_type": "stream",
     "text": [
      "100%|█████████████████████████████████████████████████████████████████████████████| 2526/2526 [00:05<00:00, 476.25it/s]\n"
     ]
    },
    {
     "name": "stdout",
     "output_type": "stream",
     "text": [
      " epoch 1 --> loss = 0.6931, ACC = 0.5059, HR = 0.1306\n",
      " Best model found!\n",
      "EPOCH: 2 --------------------------------------------------------------------------------\n",
      " generating negatives...\n"
     ]
    },
    {
     "name": "stderr",
     "output_type": "stream",
     "text": [
      "100%|████████████████████████████████████████████████████████████████████████████| 2526/2526 [00:02<00:00, 1236.40it/s]\n"
     ]
    },
    {
     "name": "stdout",
     "output_type": "stream",
     "text": [
      " training...\n",
      "Epoch 1/1\n",
      " - 1s - loss: 0.6926 - acc: 0.5282\n",
      " testing...\n"
     ]
    },
    {
     "name": "stderr",
     "output_type": "stream",
     "text": [
      "100%|█████████████████████████████████████████████████████████████████████████████| 2526/2526 [00:04<00:00, 559.21it/s]\n"
     ]
    },
    {
     "name": "stdout",
     "output_type": "stream",
     "text": [
      " epoch 2 --> loss = 0.6926, ACC = 0.5282, HR = 0.2074\n",
      " Best model found!\n",
      "EPOCH: 3 --------------------------------------------------------------------------------\n",
      " generating negatives...\n"
     ]
    },
    {
     "name": "stderr",
     "output_type": "stream",
     "text": [
      "100%|████████████████████████████████████████████████████████████████████████████| 2526/2526 [00:02<00:00, 1226.78it/s]\n"
     ]
    },
    {
     "name": "stdout",
     "output_type": "stream",
     "text": [
      " training...\n",
      "Epoch 1/1\n",
      " - 1s - loss: 0.6903 - acc: 0.5674\n",
      " testing...\n"
     ]
    },
    {
     "name": "stderr",
     "output_type": "stream",
     "text": [
      "100%|█████████████████████████████████████████████████████████████████████████████| 2526/2526 [00:05<00:00, 451.13it/s]\n"
     ]
    },
    {
     "name": "stdout",
     "output_type": "stream",
     "text": [
      " epoch 3 --> loss = 0.6903, ACC = 0.5674, HR = 0.3341\n",
      " Best model found!\n",
      "EPOCH: 4 --------------------------------------------------------------------------------\n",
      " generating negatives...\n"
     ]
    },
    {
     "name": "stderr",
     "output_type": "stream",
     "text": [
      "100%|████████████████████████████████████████████████████████████████████████████| 2526/2526 [00:02<00:00, 1147.14it/s]\n"
     ]
    },
    {
     "name": "stdout",
     "output_type": "stream",
     "text": [
      " training...\n",
      "Epoch 1/1\n",
      " - 1s - loss: 0.6831 - acc: 0.6197\n",
      " testing...\n"
     ]
    },
    {
     "name": "stderr",
     "output_type": "stream",
     "text": [
      "100%|█████████████████████████████████████████████████████████████████████████████| 2526/2526 [00:04<00:00, 536.88it/s]\n"
     ]
    },
    {
     "name": "stdout",
     "output_type": "stream",
     "text": [
      " epoch 4 --> loss = 0.6831, ACC = 0.6197, HR = 0.4410\n",
      " Best model found!\n",
      "EPOCH: 5 --------------------------------------------------------------------------------\n",
      " generating negatives...\n"
     ]
    },
    {
     "name": "stderr",
     "output_type": "stream",
     "text": [
      "100%|████████████████████████████████████████████████████████████████████████████| 2526/2526 [00:02<00:00, 1036.73it/s]\n"
     ]
    },
    {
     "name": "stdout",
     "output_type": "stream",
     "text": [
      " training...\n",
      "Epoch 1/1\n",
      " - 1s - loss: 0.6670 - acc: 0.6643\n",
      " testing...\n"
     ]
    },
    {
     "name": "stderr",
     "output_type": "stream",
     "text": [
      "100%|█████████████████████████████████████████████████████████████████████████████| 2526/2526 [00:05<00:00, 463.13it/s]\n"
     ]
    },
    {
     "name": "stdout",
     "output_type": "stream",
     "text": [
      " epoch 5 --> loss = 0.6670, ACC = 0.6643, HR = 0.5139\n",
      " Best model found!\n",
      "EPOCH: 6 --------------------------------------------------------------------------------\n",
      " generating negatives...\n"
     ]
    },
    {
     "name": "stderr",
     "output_type": "stream",
     "text": [
      "100%|████████████████████████████████████████████████████████████████████████████| 2526/2526 [00:02<00:00, 1222.70it/s]\n"
     ]
    },
    {
     "name": "stdout",
     "output_type": "stream",
     "text": [
      " training...\n",
      "Epoch 1/1\n",
      " - 1s - loss: 0.6397 - acc: 0.6991\n",
      " testing...\n"
     ]
    },
    {
     "name": "stderr",
     "output_type": "stream",
     "text": [
      "100%|█████████████████████████████████████████████████████████████████████████████| 2526/2526 [00:04<00:00, 530.45it/s]\n"
     ]
    },
    {
     "name": "stdout",
     "output_type": "stream",
     "text": [
      " epoch 6 --> loss = 0.6397, ACC = 0.6991, HR = 0.5455\n",
      " Best model found!\n",
      "EPOCH: 7 --------------------------------------------------------------------------------\n",
      " generating negatives...\n"
     ]
    },
    {
     "name": "stderr",
     "output_type": "stream",
     "text": [
      "100%|████████████████████████████████████████████████████████████████████████████| 2526/2526 [00:02<00:00, 1205.16it/s]\n"
     ]
    },
    {
     "name": "stdout",
     "output_type": "stream",
     "text": [
      " training...\n",
      "Epoch 1/1\n",
      " - 1s - loss: 0.6061 - acc: 0.7204\n",
      " testing...\n"
     ]
    },
    {
     "name": "stderr",
     "output_type": "stream",
     "text": [
      "100%|█████████████████████████████████████████████████████████████████████████████| 2526/2526 [00:04<00:00, 555.40it/s]\n"
     ]
    },
    {
     "name": "stdout",
     "output_type": "stream",
     "text": [
      " epoch 7 --> loss = 0.6061, ACC = 0.7204, HR = 0.5606\n",
      " Best model found!\n",
      "EPOCH: 8 --------------------------------------------------------------------------------\n",
      " generating negatives...\n"
     ]
    },
    {
     "name": "stderr",
     "output_type": "stream",
     "text": [
      "100%|████████████████████████████████████████████████████████████████████████████| 2526/2526 [00:02<00:00, 1164.06it/s]\n"
     ]
    },
    {
     "name": "stdout",
     "output_type": "stream",
     "text": [
      " training...\n",
      "Epoch 1/1\n",
      " - 1s - loss: 0.5735 - acc: 0.7338\n",
      " testing...\n"
     ]
    },
    {
     "name": "stderr",
     "output_type": "stream",
     "text": [
      "100%|█████████████████████████████████████████████████████████████████████████████| 2526/2526 [00:04<00:00, 561.46it/s]\n"
     ]
    },
    {
     "name": "stdout",
     "output_type": "stream",
     "text": [
      " epoch 8 --> loss = 0.5735, ACC = 0.7338, HR = 0.5709\n",
      " Best model found!\n",
      "EPOCH: 9 --------------------------------------------------------------------------------\n",
      " generating negatives...\n"
     ]
    },
    {
     "name": "stderr",
     "output_type": "stream",
     "text": [
      "100%|████████████████████████████████████████████████████████████████████████████| 2526/2526 [00:02<00:00, 1078.57it/s]\n"
     ]
    },
    {
     "name": "stdout",
     "output_type": "stream",
     "text": [
      " training...\n",
      "Epoch 1/1\n",
      " - 1s - loss: 0.5484 - acc: 0.7429\n",
      " testing...\n"
     ]
    },
    {
     "name": "stderr",
     "output_type": "stream",
     "text": [
      "100%|█████████████████████████████████████████████████████████████████████████████| 2526/2526 [00:05<00:00, 450.75it/s]\n"
     ]
    },
    {
     "name": "stdout",
     "output_type": "stream",
     "text": [
      " epoch 9 --> loss = 0.5484, ACC = 0.7429, HR = 0.5748\n",
      " Best model found!\n",
      "EPOCH: 10 --------------------------------------------------------------------------------\n",
      " generating negatives...\n"
     ]
    },
    {
     "name": "stderr",
     "output_type": "stream",
     "text": [
      "100%|████████████████████████████████████████████████████████████████████████████| 2526/2526 [00:02<00:00, 1121.66it/s]\n"
     ]
    },
    {
     "name": "stdout",
     "output_type": "stream",
     "text": [
      " training...\n",
      "Epoch 1/1\n",
      " - 1s - loss: 0.5318 - acc: 0.7486\n",
      " testing...\n"
     ]
    },
    {
     "name": "stderr",
     "output_type": "stream",
     "text": [
      "100%|█████████████████████████████████████████████████████████████████████████████| 2526/2526 [00:05<00:00, 441.99it/s]\n"
     ]
    },
    {
     "name": "stdout",
     "output_type": "stream",
     "text": [
      " epoch 10 --> loss = 0.5318, ACC = 0.7486, HR = 0.5812\n",
      " Best model found!\n"
     ]
    }
   ],
   "source": [
    "train_model_NeuMF(all_ratings ,train_ratings ,test_data, user_2_neg_items_vect, num_epochs=10, pre_train=False)"
   ]
  },
  {
   "cell_type": "code",
   "execution_count": 160,
   "metadata": {},
   "outputs": [
    {
     "data": {
      "image/png": "[encoded data removed]",
      "text/plain": [
       "<Figure size 576x432 with 1 Axes>"
      ]
     },
     "metadata": {},
     "output_type": "display_data"
    }
   ],
   "source": [
    "hr_gmf = np.load('metric/hr_vect_GMF.npy')\n",
    "hr_mlp = np.load('metric/hr_vect_MLP.npy')\n",
    "hr_neumf = np.load('metric/hr_vect_NeuMF.npy')\n",
    "hr_neumf_noTF = np.load('metric/hr_vect_NeuMF_noTF.npy')\n",
    "\n",
    "plt.figure(figsize=(8, 6))\n",
    "plt.xlim([1,12])\n",
    "plt.ylim([0,0.8])\n",
    "plt.xticks(range(1,13))\n",
    "plt.title('Hit Ratio Metric - Test set') # en realidad solo fue 60k por filtrado en fechas\n",
    "\n",
    "plt.plot(range(1,11),hr_gmf)\n",
    "plt.scatter(np.argmax(hr_gmf)+1,np.max(hr_gmf),linewidths=5)\n",
    "plt.text(np.argmax(hr_gmf)+0.5,np.max(hr_gmf)+0.02,np.round(np.max(hr_gmf),2), fontsize=11)\n",
    "\n",
    "plt.plot(range(1,11),hr_mlp)\n",
    "plt.scatter(np.argmax(hr_mlp)+1,np.max(hr_mlp),linewidths=5)\n",
    "plt.text(np.argmax(hr_mlp)+1,np.max(hr_mlp)+0.01,np.round(np.max(hr_mlp),2), fontsize=11)\n",
    "\n",
    "plt.plot(range(1,11),hr_neumf)\n",
    "plt.scatter(np.argmax(hr_neumf)+1,np.max(hr_neumf),linewidths=5)\n",
    "plt.text(np.argmax(hr_neumf)+1,np.max(hr_neumf)+0.01,np.round(np.max(hr_neumf),2), fontsize=11)\n",
    "\n",
    "plt.plot(range(1,11),hr_neumf_noTF)\n",
    "plt.scatter(np.argmax(hr_neumf_noTF)+1,np.max(hr_neumf_noTF),linewidths=5)\n",
    "plt.text(np.argmax(hr_neumf_noTF)+0.5,np.max(hr_neumf_noTF)-0.04,np.round(np.max(hr_neumf_noTF),2), fontsize=11)\n",
    "\n",
    "plt.legend(['GMF','MLP','NeuMF','NeuMF No TL'],\n",
    "           loc='lower right')\n",
    "plt.xlabel('Epoch')\n",
    "#plt.savefig('results_benf_ludnet_vs_ludnet_v2.png')\n",
    "plt.show()"
   ]
  },
  {
   "cell_type": "code",
   "execution_count": 125,
   "metadata": {},
   "outputs": [
    {
     "data": {
      "image/png": "[encoded data removed]",
      "text/plain": [
       "<Figure size 576x432 with 1 Axes>"
      ]
     },
     "metadata": {},
     "output_type": "display_data"
    }
   ],
   "source": [
    "hr_neumf_noTF = np.load('metric/hr_vect_NeuMF_noTF.npy')\n",
    "\n",
    "plt.figure(figsize=(8, 6))\n",
    "plt.xlim([0,10])\n",
    "plt.ylim([0,1.0])\n",
    "plt.title('Hit Ratio Metric - Test set') # en realidad solo fue 60k por filtrado en fechas\n",
    "plt.plot(hr_neumf_noTF)\n",
    "plt.scatter(np.argmax(hr_neumf_noTF),np.max(hr_neumf_noTF),linewidths=5)\n",
    "plt.text(np.argmax(hr_neumf_noTF),np.max(hr_neumf_noTF),np.round(np.max(hr_neumf_noTF),2), fontsize=11)\n",
    "plt.legend(['NeuMF Sin TL'],\n",
    "           loc='upper right')\n",
    "plt.xlabel('Epoch')\n",
    "plt.savefig('results1.png')\n",
    "plt.show()"
   ]
  },
  {
   "cell_type": "code",
   "execution_count": 161,
   "metadata": {},
   "outputs": [
    {
     "data": {
      "image/png": "[encoded data removed]",
      "text/plain": [
       "<Figure size 576x432 with 1 Axes>"
      ]
     },
     "metadata": {},
     "output_type": "display_data"
    }
   ],
   "source": [
    "hr_neumf = np.load('metric/hr_vect_NeuMF.npy')\n",
    "hr_neumf_noTF = np.load('metric/hr_vect_NeuMF_noTF.npy')\n",
    "\n",
    "plt.figure(figsize=(8, 6))\n",
    "plt.xlim([1,10])\n",
    "plt.ylim([0,1.0])\n",
    "plt.title('Hit Ratio Metric - Test set') # en realidad solo fue 60k por filtrado en fechas\n",
    "\n",
    "plt.plot(range(1,11),hr_neumf_noTF)\n",
    "plt.scatter(np.argmax(hr_neumf_noTF)+1,np.max(hr_neumf_noTF),linewidths=5)\n",
    "plt.text(np.argmax(hr_neumf_noTF)+0.7,np.max(hr_neumf_noTF)+0.01,np.round(np.max(hr_neumf_noTF),2), fontsize=11,\n",
    "        horizontalalignment='center',verticalalignment='bottom')\n",
    "plt.plot(range(1,11),hr_neumf)\n",
    "plt.scatter(np.argmax(hr_neumf)+1,np.max(hr_neumf),linewidths=5)\n",
    "plt.text(np.argmax(hr_neumf)+1,np.max(hr_neumf)+0.02,np.round(np.max(hr_neumf),2), fontsize=11,\n",
    "         horizontalalignment='center')\n",
    "plt.legend(['NeuMF Sin TL','NeuMF'],\n",
    "           loc='upper right')\n",
    "plt.xlabel('Epoch')\n",
    "plt.savefig('results2.png')\n",
    "plt.show()"
   ]
  },
  {
   "cell_type": "code",
   "execution_count": 163,
   "metadata": {},
   "outputs": [],
   "source": [
    "json_file = open('models/NeuMF_model.json', 'r')\n",
    "loaded_model_json = json_file.read()\n",
    "json_file.close()\n",
    "\n",
    "NeuMF_best = model_from_json(loaded_model_json)\n",
    "NeuMF_best.load_weights('models/NeuMF_weights')"
   ]
  },
  {
   "cell_type": "code",
   "execution_count": 180,
   "metadata": {
    "scrolled": false
   },
   "outputs": [
    {
     "name": "stderr",
     "output_type": "stream",
     "text": [
      "C:\\Anaconda3\\envs\\py36\\lib\\site-packages\\ipykernel_launcher.py:9: FutureWarning: Sorting because non-concatenation axis is not aligned. A future version\n",
      "of pandas will change to not sort by default.\n",
      "\n",
      "To accept the future behavior, pass 'sort=True'.\n",
      "\n",
      "To retain the current behavior and silence the warning, pass sort=False\n",
      "\n",
      "  if __name__ == '__main__':\n"
     ]
    }
   ],
   "source": [
    "num_user = 64  #0 #10 #20 #1982 #2108 #1357 #64\n",
    "user_not_interacted_artists = user_2_neg_items_vect[num_user]\n",
    "user_not_interacted_vect_id = [num_user]*(len(user_not_interacted_artists))\n",
    "\n",
    "user_dfneg_dict = {'user_id':user_not_interacted_vect_id,\n",
    "                   'item_id':user_not_interacted_artists}\n",
    "user_dfneg = pd.DataFrame(user_dfneg_dict)\n",
    "\n",
    "user_df = pd.concat([all_ratings[all_ratings['user_id']==num_user], user_dfneg],axis=0,ignore_index=True)\n",
    "user_df = user_df.sample(frac=1).reset_index(drop=True) #shuffle and reset index (drop old index)\n",
    "\n",
    "user_df['prediction']= NeuMF_best.predict([user_df['user_id'], user_df['item_id']])\n",
    "\n",
    "user_df = user_df.sort_values('prediction',ascending=False)\n",
    "user_df['artist'] = user_df['item_id'].map(itemid2item)\n",
    "user_df.prediction = user_df.prediction.round(4)\n",
    "#user_df.loc[:,['user_id','plays','artist','prediction']].head(20)\n",
    "a = user_df[pd.isnull(user_df).any(axis=1)].loc[:,['user_id','plays','artist','prediction']].head(5)"
   ]
  },
  {
   "cell_type": "code",
   "execution_count": 181,
   "metadata": {},
   "outputs": [],
   "source": [
    "# 'Electronica, Techno', 'Techno, Ambient music','Techno','Psychedelic trance','Electronica, Soul music'\n",
    "# 'Rock, Pop music', 'Rock, Experimental music, Blues, Jazz', 'Alternative rock, Art rock, Alternative country, experimental rock, Indie rock','Indie rock, Alternaive rock, Lo-fi music','Art rock, Electronica, Alternative rock, Experimental rock'\n",
    "# 'Melodic death metal', 'Heavy metal, Trash metal', 'Melodic death metal','Progressive metal','Brutal death metal'"
   ]
  },
  {
   "cell_type": "code",
   "execution_count": 183,
   "metadata": {},
   "outputs": [
    {
     "data": {
      "text/html": [
       "<div>\n",
       "<style scoped>\n",
       "    .dataframe tbody tr th:only-of-type {\n",
       "        vertical-align: middle;\n",
       "    }\n",
       "\n",
       "    .dataframe tbody tr th {\n",
       "        vertical-align: top;\n",
       "    }\n",
       "\n",
       "    .dataframe thead th {\n",
       "        text-align: right;\n",
       "    }\n",
       "</style>\n",
       "<table border=\"1\" class=\"dataframe\">\n",
       "  <thead>\n",
       "    <tr style=\"text-align: right;\">\n",
       "      <th></th>\n",
       "      <th>user_id</th>\n",
       "      <th>plays</th>\n",
       "      <th>artist</th>\n",
       "      <th>prediction</th>\n",
       "      <th>music genre</th>\n",
       "    </tr>\n",
       "  </thead>\n",
       "  <tbody>\n",
       "    <tr>\n",
       "      <th>30921</th>\n",
       "      <td>64</td>\n",
       "      <td>NaN</td>\n",
       "      <td>gui boratto</td>\n",
       "      <td>0.9980</td>\n",
       "      <td>House music</td>\n",
       "    </tr>\n",
       "    <tr>\n",
       "      <th>1086</th>\n",
       "      <td>64</td>\n",
       "      <td>NaN</td>\n",
       "      <td>dusty kid</td>\n",
       "      <td>0.9961</td>\n",
       "      <td>Dance/Electronic</td>\n",
       "    </tr>\n",
       "    <tr>\n",
       "      <th>16636</th>\n",
       "      <td>64</td>\n",
       "      <td>NaN</td>\n",
       "      <td>thievery corporation</td>\n",
       "      <td>0.9960</td>\n",
       "      <td>Eletronica</td>\n",
       "    </tr>\n",
       "    <tr>\n",
       "      <th>26112</th>\n",
       "      <td>64</td>\n",
       "      <td>NaN</td>\n",
       "      <td>extrawelt</td>\n",
       "      <td>0.9960</td>\n",
       "      <td>Dance/Electronic</td>\n",
       "    </tr>\n",
       "    <tr>\n",
       "      <th>3760</th>\n",
       "      <td>64</td>\n",
       "      <td>NaN</td>\n",
       "      <td>paul kalkbrenner</td>\n",
       "      <td>0.9958</td>\n",
       "      <td>Techno</td>\n",
       "    </tr>\n",
       "  </tbody>\n",
       "</table>\n",
       "</div>"
      ],
      "text/plain": [
       "       user_id  plays                artist  prediction       music genre\n",
       "30921       64    NaN           gui boratto      0.9980       House music\n",
       "1086        64    NaN             dusty kid      0.9961  Dance/Electronic\n",
       "16636       64    NaN  thievery corporation      0.9960        Eletronica\n",
       "26112       64    NaN             extrawelt      0.9960  Dance/Electronic\n",
       "3760        64    NaN      paul kalkbrenner      0.9958            Techno"
      ]
     },
     "execution_count": 183,
     "metadata": {},
     "output_type": "execute_result"
    }
   ],
   "source": [
    "a['music genre'] = ['House music',\n",
    "                    'Dance/Electronic',\n",
    "                    'Eletronica',\n",
    "                    'Dance/Electronic',\n",
    "                    'Techno']\n",
    "a"
   ]
  },
  {
   "cell_type": "code",
   "execution_count": 176,
   "metadata": {
    "scrolled": false
   },
   "outputs": [],
   "source": [
    "user_df = user_df.sort_values('plays',ascending=False)\n",
    "b = user_df[user_df['plays']>0].loc[:,['user_id','plays','artist']].head(5)"
   ]
  },
  {
   "cell_type": "code",
   "execution_count": 177,
   "metadata": {},
   "outputs": [],
   "source": [
    "# 'Electronica', 'Dubstep, Ambient music','Alternative Rock','Alternative Indie'"
   ]
  },
  {
   "cell_type": "code",
   "execution_count": 178,
   "metadata": {},
   "outputs": [
    {
     "data": {
      "text/html": [
       "<div>\n",
       "<style scoped>\n",
       "    .dataframe tbody tr th:only-of-type {\n",
       "        vertical-align: middle;\n",
       "    }\n",
       "\n",
       "    .dataframe tbody tr th {\n",
       "        vertical-align: top;\n",
       "    }\n",
       "\n",
       "    .dataframe thead th {\n",
       "        text-align: right;\n",
       "    }\n",
       "</style>\n",
       "<table border=\"1\" class=\"dataframe\">\n",
       "  <thead>\n",
       "    <tr style=\"text-align: right;\">\n",
       "      <th></th>\n",
       "      <th>user_id</th>\n",
       "      <th>plays</th>\n",
       "      <th>artist</th>\n",
       "      <th>music genre</th>\n",
       "    </tr>\n",
       "  </thead>\n",
       "  <tbody>\n",
       "    <tr>\n",
       "      <th>518</th>\n",
       "      <td>1357</td>\n",
       "      <td>2006.0</td>\n",
       "      <td>iron maiden</td>\n",
       "      <td>Garage rock, Garage punk</td>\n",
       "    </tr>\n",
       "    <tr>\n",
       "      <th>23347</th>\n",
       "      <td>1357</td>\n",
       "      <td>1051.0</td>\n",
       "      <td>mfÖ</td>\n",
       "      <td>Alternative rock, Funk metal, Funk rock, Ska punk</td>\n",
       "    </tr>\n",
       "    <tr>\n",
       "      <th>7388</th>\n",
       "      <td>1357</td>\n",
       "      <td>1033.0</td>\n",
       "      <td>sacred reich</td>\n",
       "      <td>Punk Rock, Melodic Hardcore, Hardcore Punk</td>\n",
       "    </tr>\n",
       "    <tr>\n",
       "      <th>17302</th>\n",
       "      <td>1357</td>\n",
       "      <td>621.0</td>\n",
       "      <td>massive attack</td>\n",
       "      <td>Garage Punk, Garage rock, Punk rock</td>\n",
       "    </tr>\n",
       "    <tr>\n",
       "      <th>18159</th>\n",
       "      <td>1357</td>\n",
       "      <td>576.0</td>\n",
       "      <td>destruction</td>\n",
       "      <td>Post Hardcore, Art punk, Hardcore Punk</td>\n",
       "    </tr>\n",
       "  </tbody>\n",
       "</table>\n",
       "</div>"
      ],
      "text/plain": [
       "       user_id   plays          artist  \\\n",
       "518       1357  2006.0     iron maiden   \n",
       "23347     1357  1051.0             mfÖ   \n",
       "7388      1357  1033.0    sacred reich   \n",
       "17302     1357   621.0  massive attack   \n",
       "18159     1357   576.0     destruction   \n",
       "\n",
       "                                             music genre  \n",
       "518                             Garage rock, Garage punk  \n",
       "23347  Alternative rock, Funk metal, Funk rock, Ska punk  \n",
       "7388          Punk Rock, Melodic Hardcore, Hardcore Punk  \n",
       "17302                Garage Punk, Garage rock, Punk rock  \n",
       "18159             Post Hardcore, Art punk, Hardcore Punk  "
      ]
     },
     "execution_count": 178,
     "metadata": {},
     "output_type": "execute_result"
    }
   ],
   "source": [
    "b['music genre'] = ['Garage rock, Garage punk',\n",
    "                    'Alternative rock, Funk metal, Funk rock, Ska punk',\n",
    "                    'Punk Rock, Melodic Hardcore, Hardcore Punk',\n",
    "                    'Garage Punk, Garage rock, Punk rock',\n",
    "                    'Post Hardcore, Art punk, Hardcore Punk']\n",
    "b"
   ]
  },
  {
   "cell_type": "code",
   "execution_count": null,
   "metadata": {},
   "outputs": [],
   "source": [
    "# from keras.utils import plot_model\n",
    "# plot_model(NeuMF_best, to_file='model.png')"
   ]
  },
  {
   "cell_type": "code",
   "execution_count": null,
   "metadata": {},
   "outputs": [],
   "source": []
  }
 ],
 "metadata": {
  "kernelspec": {
   "display_name": "Python 3",
   "language": "python",
   "name": "python3"
  },
  "language_info": {
   "codemirror_mode": {
    "name": "ipython",
    "version": 3
   },
   "file_extension": ".py",
   "mimetype": "text/x-python",
   "name": "python",
   "nbconvert_exporter": "python",
   "pygments_lexer": "ipython3",
   "version": "3.6.5"
  }
 },
 "nbformat": 4,
 "nbformat_minor": 2
}
